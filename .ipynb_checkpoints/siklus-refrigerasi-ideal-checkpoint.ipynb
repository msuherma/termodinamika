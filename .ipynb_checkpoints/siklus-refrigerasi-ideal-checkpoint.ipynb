{
 "cells": [
  {
   "cell_type": "markdown",
   "id": "ranking-burns",
   "metadata": {},
   "source": [
    "Sumber utama dari kode ini adalah [adriaan90-refrigeration](https://github.com/adriaan90/refrigeration-cycle/blob/master/Ideal%20refrigeration%20cycle.py)\n",
    "\n",
    "Soal:\n",
    "\n",
    "![Soal-siklus-refrigerasi](img/ideal-refrigeration-cycle.jpg)\n",
    "\n",
    "![Diagram-Ts-siklus-refrigerasi](img/T-s-diagram-ideal-refrigeration-cycle.jpg)"
   ]
  },
  {
   "cell_type": "code",
   "execution_count": 1,
   "id": "elder-annual",
   "metadata": {},
   "outputs": [],
   "source": [
    "import pyromat as pm\n",
    "\n",
    "pm.config[\"unit_pressure\"] = \"kPa\"\n",
    "pm.config[\"def_p\"] = 100"
   ]
  },
  {
   "cell_type": "code",
   "execution_count": 2,
   "id": "brief-tower",
   "metadata": {},
   "outputs": [],
   "source": [
    "# R134a sebagai fluida kerja\n",
    "mp_R134a = pm.get(\"mp.C2H2F4\")"
   ]
  },
  {
   "cell_type": "code",
   "execution_count": 3,
   "id": "twelve-number",
   "metadata": {},
   "outputs": [],
   "source": [
    "# Diketahui:\n",
    "m_dot = 0.03 #kg/s \n",
    "T1 = -20 + 273.15 # K \n",
    "T3 = 40 +273.15 # K "
   ]
  },
  {
   "cell_type": "code",
   "execution_count": 5,
   "id": "published-segment",
   "metadata": {},
   "outputs": [],
   "source": [
    "# x pada titik 1 adalah 1, karena dalam kondisi \n",
    "# [1] menandakan kualitas x\n",
    "h1 = mp_R134a.hs(T=T1)[1]\n",
    "s1 = mp_R134a.ss(T=T1)[1]\n",
    "p_g = mp_R134a.ps(T=T3)"
   ]
  },
  {
   "cell_type": "code",
   "execution_count": 6,
   "id": "generous-apollo",
   "metadata": {},
   "outputs": [
    {
     "name": "stdout",
     "output_type": "stream",
     "text": [
      "Entalpi setelah evap: 386.6 kJ/kg\n",
      "Entropi setelah evap: 1.7413 kJ/kg\n",
      "Tekanan uap: 1017.2 kPa\n"
     ]
    }
   ],
   "source": [
    "print(f\"Entalpi setelah evap: {round(float(h1),1)} kJ/kg\")\n",
    "print(f\"Entropi setelah evap: {round(float(s1),4)} kJ/kg\")\n",
    "print(f\"Tekanan uap: {round(float(p_g),1)} kPa\")"
   ]
  },
  {
   "cell_type": "code",
   "execution_count": 7,
   "id": "foreign-semiconductor",
   "metadata": {},
   "outputs": [
    {
     "name": "stdout",
     "output_type": "stream",
     "text": [
      "Entalpi setelah kompresor: 429.0 kJ/kg\n",
      "Suhu setelah kompresor: 321.8 K\n",
      "Work/Usaha yang dilakukan oleh kompresor: 42.5 kJ/kg\n"
     ]
    }
   ],
   "source": [
    "s2 = s1\n",
    "T2 = mp_R134a.T_s(s=s2, p=p_g)\n",
    "h2 = mp_R134a.h(T=T2, p=p_g)\n",
    "print(f\"Entalpi setelah kompresor: {round(float(h2),1)} kJ/kg\")\n",
    "print(f\"Suhu setelah kompresor: {round(float(T2),1)} K\")\n",
    "w_c = h2-h1\n",
    "print(f\"Work/Usaha yang dilakukan oleh kompresor: {round(float(w_c),1)} kJ/kg\")"
   ]
  },
  {
   "cell_type": "code",
   "execution_count": 9,
   "id": "vertical-lawrence",
   "metadata": {},
   "outputs": [
    {
     "name": "stdout",
     "output_type": "stream",
     "text": [
      "Kalor yang didapat oleh evap: 130.1 kJ/kg\n"
     ]
    }
   ],
   "source": [
    "h3 = mp_R134a.hs(p=p_g)[0]\n",
    "s3 = mp_R134a.ss(p=p_g)[0]\n",
    "\n",
    "h4 = h3\n",
    "q_L = h1 - h4\n",
    "print(f\"Kalor yang didapat oleh evap: {round(float(q_L),1)} kJ/kg\")\n"
   ]
  },
  {
   "cell_type": "code",
   "execution_count": 12,
   "id": "precise-concept",
   "metadata": {},
   "outputs": [
    {
     "name": "stdout",
     "output_type": "stream",
     "text": [
      "Coefficient of performance (COP): 3.063\n",
      "Kapasitas Refrigerasi: [3.90431963] kW\n"
     ]
    }
   ],
   "source": [
    "beta = q_L/w_c\n",
    "print(f\"Coefficient of performance (COP): {round(float(beta),3)}\")\n",
    "print(f\"Kapasitas Refrigerasi: {q_L*m_dot} kW\")"
   ]
  },
  {
   "cell_type": "code",
   "execution_count": 13,
   "id": "earned-denmark",
   "metadata": {},
   "outputs": [
    {
     "name": "stdout",
     "output_type": "stream",
     "text": [
      "Kalor yang dilepas oleh kondenser: 172.6 kJ/kg\n"
     ]
    }
   ],
   "source": [
    "q_H = h2 -h3\n",
    "print(f\"Kalor yang dilepas oleh kondenser: {round(float(q_H),1)} kJ/kg\")"
   ]
  },
  {
   "cell_type": "code",
   "execution_count": 14,
   "id": "minute-allah",
   "metadata": {},
   "outputs": [
    {
     "name": "stdout",
     "output_type": "stream",
     "text": [
      "Coefficient of performance (COP): 4.063\n"
     ]
    }
   ],
   "source": [
    "beta = q_H/w_c\n",
    "print(f\"Coefficient of performance (COP): {round(float(beta),3)}\")"
   ]
  },
  {
   "cell_type": "code",
   "execution_count": null,
   "id": "polish-collar",
   "metadata": {},
   "outputs": [],
   "source": []
  }
 ],
 "metadata": {
  "kernelspec": {
   "display_name": "Python 3",
   "language": "python",
   "name": "python3"
  },
  "language_info": {
   "codemirror_mode": {
    "name": "ipython",
    "version": 3
   },
   "file_extension": ".py",
   "mimetype": "text/x-python",
   "name": "python",
   "nbconvert_exporter": "python",
   "pygments_lexer": "ipython3",
   "version": "3.8.8"
  }
 },
 "nbformat": 4,
 "nbformat_minor": 5
}
