{
 "cells": [
  {
   "cell_type": "code",
   "execution_count": 1,
   "id": "limiting-acting",
   "metadata": {},
   "outputs": [],
   "source": [
    "import pyromat as pm"
   ]
  },
  {
   "cell_type": "code",
   "execution_count": 2,
   "id": "abstract-robertson",
   "metadata": {},
   "outputs": [],
   "source": [
    "air = pm.get('ig.air')"
   ]
  },
  {
   "cell_type": "code",
   "execution_count": 3,
   "id": "bright-victor",
   "metadata": {},
   "outputs": [
    {
     "data": {
      "text/plain": [
       "array([1.39991606, 1.39477137, 1.38641678, 1.37600618])"
      ]
     },
     "execution_count": 3,
     "metadata": {},
     "output_type": "execute_result"
    }
   ],
   "source": [
    "air.gam(T=[300, 400, 500, 600])"
   ]
  },
  {
   "cell_type": "markdown",
   "id": "finished-permit",
   "metadata": {},
   "source": [
    "The properties include\n",
    "\n",
    "`cp` Isobaric specific heat <br/>\n",
    "`cv` Isochoric specific heat <br/>\n",
    "`d` Density <br/>\n",
    "`e` Internal energy <br/>\n",
    "`gam` Specific heat ratio <br/>\n",
    "`h` Enthalpy <br/>\n",
    "`mw` Molecular weight <br/>\n",
    "`R` Ideal gas constant <br/>\n",
    "`s` Entropy <br/>"
   ]
  },
  {
   "cell_type": "code",
   "execution_count": 5,
   "id": "smart-turner",
   "metadata": {},
   "outputs": [],
   "source": [
    "# pm.info()"
   ]
  },
  {
   "cell_type": "code",
   "execution_count": 6,
   "id": "southwest-disclosure",
   "metadata": {},
   "outputs": [],
   "source": [
    "N2 = pm.get('ig.N2')\n",
    "O2 = pm.get('ig.O2')\n",
    "CO2 = pm.get('ig.CO2')"
   ]
  },
  {
   "cell_type": "code",
   "execution_count": 7,
   "id": "warming-variety",
   "metadata": {},
   "outputs": [
    {
     "data": {
      "text/plain": [
       "28.01348"
      ]
     },
     "execution_count": 7,
     "metadata": {},
     "output_type": "execute_result"
    }
   ],
   "source": [
    "# Getting molecular weight\n",
    "N2.mw()"
   ]
  },
  {
   "cell_type": "code",
   "execution_count": 8,
   "id": "mediterranean-gateway",
   "metadata": {},
   "outputs": [
    {
     "data": {
      "text/plain": [
       "array([207.43522083])"
      ]
     },
     "execution_count": 8,
     "metadata": {},
     "output_type": "execute_result"
    }
   ],
   "source": [
    "N2.h(T=496.5, p=3.)     # T and p as explicit keywords"
   ]
  },
  {
   "cell_type": "code",
   "execution_count": 9,
   "id": "patent-massachusetts",
   "metadata": {},
   "outputs": [
    {
     "data": {
      "text/plain": [
       "array([207.43522083])"
      ]
     },
     "execution_count": 9,
     "metadata": {},
     "output_type": "execute_result"
    }
   ],
   "source": [
    "N2.h(T=496.5)           # p is omitted; h is not a function of p"
   ]
  },
  {
   "cell_type": "code",
   "execution_count": 10,
   "id": "mounted-greece",
   "metadata": {},
   "outputs": [
    {
     "data": {
      "text/plain": [
       "array([207.43522083])"
      ]
     },
     "execution_count": 10,
     "metadata": {},
     "output_type": "execute_result"
    }
   ],
   "source": [
    "N2.h(496.5, 3.)         # T and p as ordered arguments (T comes first)"
   ]
  },
  {
   "cell_type": "code",
   "execution_count": 11,
   "id": "given-budget",
   "metadata": {},
   "outputs": [
    {
     "data": {
      "text/plain": [
       "array([207.43522083])"
      ]
     },
     "execution_count": 11,
     "metadata": {},
     "output_type": "execute_result"
    }
   ],
   "source": [
    "N2.h(496.5)             # p is omitted; h is not a function of p"
   ]
  },
  {
   "cell_type": "markdown",
   "id": "oriental-formation",
   "metadata": {},
   "source": [
    "## Working with units"
   ]
  },
  {
   "cell_type": "code",
   "execution_count": 12,
   "id": "returning-adapter",
   "metadata": {},
   "outputs": [
    {
     "data": {
      "text/plain": [
       "array([6.58052595])"
      ]
     },
     "execution_count": 12,
     "metadata": {},
     "output_type": "execute_result"
    }
   ],
   "source": [
    "N2.s(T=700.,p=50.)"
   ]
  },
  {
   "cell_type": "code",
   "execution_count": 13,
   "id": "precious-deficit",
   "metadata": {},
   "outputs": [],
   "source": [
    "pm.config['unit_temperature'] = 'F'"
   ]
  },
  {
   "cell_type": "code",
   "execution_count": 14,
   "id": "prescription-looking",
   "metadata": {},
   "outputs": [
    {
     "data": {
      "text/plain": [
       "array([6.58052595])"
      ]
     },
     "execution_count": 14,
     "metadata": {},
     "output_type": "execute_result"
    }
   ],
   "source": [
    "N2.s(T=800.33,p=50.)*1.8    # 800.33F == 700K"
   ]
  },
  {
   "cell_type": "markdown",
   "id": "plain-department",
   "metadata": {},
   "source": [
    "`pm.config` ==  default setting-nya adalah sebagai berikut:<br/>\n",
    "... <br/>\n",
    "     `unit_energy` : 'kJ' <br/>\n",
    "      `unit_force` : 'N' <br/>\n",
    "     `unit_length` : 'm' <br/>\n",
    "       `unit_mass` : 'kg' <br/>\n",
    "     `unit_matter` : 'kg' <br/>\n",
    "      `unit_molar` : 'kmol' <br/>\n",
    "   `unit_pressure` : 'bar' <br/>\n",
    "`unit_temperature` : 'K' <br/>\n",
    "       `unit_time` : 's' <br/>\n",
    "     `unit_volume` : 'm3' <br/>\n",
    "..."
   ]
  },
  {
   "cell_type": "code",
   "execution_count": 15,
   "id": "bulgarian-margin",
   "metadata": {},
   "outputs": [
    {
     "data": {
      "text/plain": [
       "28.01348"
      ]
     },
     "execution_count": 15,
     "metadata": {},
     "output_type": "execute_result"
    }
   ],
   "source": [
    "N2.mw()"
   ]
  },
  {
   "cell_type": "code",
   "execution_count": 16,
   "id": "married-belle",
   "metadata": {},
   "outputs": [
    {
     "data": {
      "text/plain": [
       "array([3.99756896])"
      ]
     },
     "execution_count": 16,
     "metadata": {},
     "output_type": "execute_result"
    }
   ],
   "source": [
    "N2.s()"
   ]
  },
  {
   "cell_type": "code",
   "execution_count": 17,
   "id": "based-sweden",
   "metadata": {},
   "outputs": [
    {
     "data": {
      "text/plain": [
       "array([111.98581814])"
      ]
     },
     "execution_count": 17,
     "metadata": {},
     "output_type": "execute_result"
    }
   ],
   "source": [
    "pm.config['unit_matter'] = 'kmol'\n",
    "N2.s()"
   ]
  },
  {
   "cell_type": "code",
   "execution_count": 22,
   "id": "stock-biography",
   "metadata": {},
   "outputs": [
    {
     "ename": "AttributeError",
     "evalue": "'dict' object has no attribute 'iteritems'",
     "output_type": "error",
     "traceback": [
      "\u001b[1;31m---------------------------------------------------------------------------\u001b[0m",
      "\u001b[1;31mAttributeError\u001b[0m                            Traceback (most recent call last)",
      "\u001b[1;32m<ipython-input-22-8be60e3ad2ac>\u001b[0m in \u001b[0;36m<module>\u001b[1;34m\u001b[0m\n\u001b[1;32m----> 1\u001b[1;33m \u001b[0mpm\u001b[0m\u001b[1;33m.\u001b[0m\u001b[0munits\u001b[0m\u001b[1;33m.\u001b[0m\u001b[0mshow\u001b[0m\u001b[1;33m(\u001b[0m\u001b[1;33m)\u001b[0m\u001b[1;33m\u001b[0m\u001b[1;33m\u001b[0m\u001b[0m\n\u001b[0m",
      "\u001b[1;32m~\\Anaconda3\\envs\\termo\\lib\\site-packages\\pyromat\\units.py\u001b[0m in \u001b[0;36mshow\u001b[1;34m()\u001b[0m\n\u001b[0;32m    538\u001b[0m \u001b[1;32mdef\u001b[0m \u001b[0mshow\u001b[0m\u001b[1;33m(\u001b[0m\u001b[1;33m)\u001b[0m\u001b[1;33m:\u001b[0m\u001b[1;33m\u001b[0m\u001b[1;33m\u001b[0m\u001b[0m\n\u001b[0;32m    539\u001b[0m     \u001b[1;34m\"\"\"Print a summary of all unit conversions available\"\"\"\u001b[0m\u001b[1;33m\u001b[0m\u001b[1;33m\u001b[0m\u001b[0m\n\u001b[1;32m--> 540\u001b[1;33m     \u001b[1;32mfor\u001b[0m \u001b[0mname\u001b[0m\u001b[1;33m,\u001b[0m\u001b[0mconv\u001b[0m \u001b[1;32min\u001b[0m \u001b[0mpyro\u001b[0m\u001b[1;33m.\u001b[0m\u001b[0munits\u001b[0m\u001b[1;33m.\u001b[0m\u001b[0m__dict__\u001b[0m\u001b[1;33m.\u001b[0m\u001b[0miteritems\u001b[0m\u001b[1;33m(\u001b[0m\u001b[1;33m)\u001b[0m\u001b[1;33m:\u001b[0m\u001b[1;33m\u001b[0m\u001b[1;33m\u001b[0m\u001b[0m\n\u001b[0m\u001b[0;32m    541\u001b[0m         \u001b[1;32mif\u001b[0m \u001b[0misinstance\u001b[0m\u001b[1;33m(\u001b[0m\u001b[0mconv\u001b[0m\u001b[1;33m,\u001b[0m\u001b[0mConversion\u001b[0m\u001b[1;33m)\u001b[0m\u001b[1;33m:\u001b[0m\u001b[1;33m\u001b[0m\u001b[1;33m\u001b[0m\u001b[0m\n\u001b[0;32m    542\u001b[0m             \u001b[0msys\u001b[0m\u001b[1;33m.\u001b[0m\u001b[0mstdout\u001b[0m\u001b[1;33m.\u001b[0m\u001b[0mwrite\u001b[0m\u001b[1;33m(\u001b[0m \u001b[1;34m'%15s : '\u001b[0m\u001b[1;33m%\u001b[0m\u001b[0mname\u001b[0m\u001b[1;33m)\u001b[0m\u001b[1;33m\u001b[0m\u001b[1;33m\u001b[0m\u001b[0m\n",
      "\u001b[1;31mAttributeError\u001b[0m: 'dict' object has no attribute 'iteritems'"
     ]
    }
   ],
   "source": [
    "pm.units.show()"
   ]
  },
  {
   "cell_type": "markdown",
   "id": "classified-appearance",
   "metadata": {},
   "source": [
    "## Working with arrays"
   ]
  },
  {
   "cell_type": "code",
   "execution_count": 23,
   "id": "familiar-education",
   "metadata": {},
   "outputs": [],
   "source": [
    "import numpy as np"
   ]
  },
  {
   "cell_type": "code",
   "execution_count": 24,
   "id": "united-jimmy",
   "metadata": {},
   "outputs": [
    {
     "data": {
      "text/plain": [
       "array([ 3618.21263508,  5252.39756517,  6898.08026197,  8558.17994855,\n",
       "       10235.34538703, 11931.80610157, 13649.22360133])"
      ]
     },
     "execution_count": 24,
     "metadata": {},
     "output_type": "execute_result"
    }
   ],
   "source": [
    "T = np.arange(300., 1000.,100.) #start, finish, number of points\n",
    "N2.h(T)"
   ]
  },
  {
   "cell_type": "code",
   "execution_count": 25,
   "id": "satisfactory-agency",
   "metadata": {},
   "outputs": [
    {
     "data": {
      "text/plain": [
       "array([ 98.82107136,  99.66220196, 100.46648834])"
      ]
     },
     "execution_count": 25,
     "metadata": {},
     "output_type": "execute_result"
    }
   ],
   "source": [
    "T = np.array([500., 550., 600.]);\n",
    "p = 40.5;\n",
    "N2.s(T,p)"
   ]
  },
  {
   "cell_type": "code",
   "execution_count": null,
   "id": "complimentary-polymer",
   "metadata": {},
   "outputs": [],
   "source": []
  }
 ],
 "metadata": {
  "kernelspec": {
   "display_name": "Python 3",
   "language": "python",
   "name": "python3"
  },
  "language_info": {
   "codemirror_mode": {
    "name": "ipython",
    "version": 3
   },
   "file_extension": ".py",
   "mimetype": "text/x-python",
   "name": "python",
   "nbconvert_exporter": "python",
   "pygments_lexer": "ipython3",
   "version": "3.8.8"
  }
 },
 "nbformat": 4,
 "nbformat_minor": 5
}
