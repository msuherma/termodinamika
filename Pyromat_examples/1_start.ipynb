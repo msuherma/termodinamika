{
 "cells": [
  {
   "cell_type": "code",
   "execution_count": 1,
   "id": "collaborative-input",
   "metadata": {},
   "outputs": [],
   "source": [
    "import pyromat as pm"
   ]
  },
  {
   "cell_type": "code",
   "execution_count": 2,
   "id": "dependent-fight",
   "metadata": {},
   "outputs": [],
   "source": [
    "air = pm.get('ig.air')"
   ]
  },
  {
   "cell_type": "code",
   "execution_count": 3,
   "id": "opening-journalist",
   "metadata": {},
   "outputs": [
    {
     "data": {
      "text/plain": [
       "array([1.39991606, 1.39477137, 1.38641678, 1.37600618])"
      ]
     },
     "execution_count": 3,
     "metadata": {},
     "output_type": "execute_result"
    }
   ],
   "source": [
    "air.gam(T=[300, 400, 500, 600])"
   ]
  },
  {
   "cell_type": "markdown",
   "id": "absolute-fighter",
   "metadata": {},
   "source": [
    "The properties include\n",
    "\n",
    "`cp` Isobaric specific heat <br/>\n",
    "`cv` Isochoric specific heat <br/>\n",
    "`d` Density <br/>\n",
    "`e` Internal energy <br/>\n",
    "`gam` Specific heat ratio <br/>\n",
    "`h` Enthalpy <br/>\n",
    "`mw` Molecular weight <br/>\n",
    "`R` Ideal gas constant <br/>\n",
    "`s` Entropy <br/>"
   ]
  },
  {
   "cell_type": "code",
   "execution_count": 5,
   "id": "bacterial-theta",
   "metadata": {},
   "outputs": [],
   "source": [
    "# pm.info()"
   ]
  },
  {
   "cell_type": "code",
   "execution_count": 6,
   "id": "killing-agriculture",
   "metadata": {},
   "outputs": [],
   "source": [
    "N2 = pm.get('ig.N2')\n",
    "O2 = pm.get('ig.O2')\n",
    "CO2 = pm.get('ig.CO2')"
   ]
  },
  {
   "cell_type": "code",
   "execution_count": 7,
   "id": "crazy-dance",
   "metadata": {},
   "outputs": [
    {
     "data": {
      "text/plain": [
       "28.01348"
      ]
     },
     "execution_count": 7,
     "metadata": {},
     "output_type": "execute_result"
    }
   ],
   "source": [
    "# Getting molecular weight\n",
    "N2.mw()"
   ]
  },
  {
   "cell_type": "code",
   "execution_count": 8,
   "id": "executive-conference",
   "metadata": {},
   "outputs": [
    {
     "data": {
      "text/plain": [
       "array([207.43522083])"
      ]
     },
     "execution_count": 8,
     "metadata": {},
     "output_type": "execute_result"
    }
   ],
   "source": [
    "N2.h(T=496.5, p=3.)     # T and p as explicit keywords"
   ]
  },
  {
   "cell_type": "code",
   "execution_count": 9,
   "id": "stunning-ticket",
   "metadata": {},
   "outputs": [
    {
     "data": {
      "text/plain": [
       "array([207.43522083])"
      ]
     },
     "execution_count": 9,
     "metadata": {},
     "output_type": "execute_result"
    }
   ],
   "source": [
    "N2.h(T=496.5)           # p is omitted; h is not a function of p"
   ]
  },
  {
   "cell_type": "code",
   "execution_count": 10,
   "id": "ecological-breakfast",
   "metadata": {},
   "outputs": [
    {
     "data": {
      "text/plain": [
       "array([207.43522083])"
      ]
     },
     "execution_count": 10,
     "metadata": {},
     "output_type": "execute_result"
    }
   ],
   "source": [
    "N2.h(496.5, 3.)         # T and p as ordered arguments (T comes first)"
   ]
  },
  {
   "cell_type": "code",
   "execution_count": 11,
   "id": "explicit-software",
   "metadata": {},
   "outputs": [
    {
     "data": {
      "text/plain": [
       "array([207.43522083])"
      ]
     },
     "execution_count": 11,
     "metadata": {},
     "output_type": "execute_result"
    }
   ],
   "source": [
    "N2.h(496.5)             # p is omitted; h is not a function of p"
   ]
  },
  {
   "cell_type": "markdown",
   "id": "strategic-translator",
   "metadata": {},
   "source": [
    "## Working with units"
   ]
  },
  {
   "cell_type": "code",
   "execution_count": 12,
   "id": "silver-things",
   "metadata": {},
   "outputs": [
    {
     "data": {
      "text/plain": [
       "array([6.58052595])"
      ]
     },
     "execution_count": 12,
     "metadata": {},
     "output_type": "execute_result"
    }
   ],
   "source": [
    "N2.s(T=700.,p=50.)"
   ]
  },
  {
   "cell_type": "code",
   "execution_count": 13,
   "id": "later-gateway",
   "metadata": {},
   "outputs": [],
   "source": [
    "pm.config['unit_temperature'] = 'F'"
   ]
  },
  {
   "cell_type": "code",
   "execution_count": 14,
   "id": "collectible-density",
   "metadata": {},
   "outputs": [
    {
     "data": {
      "text/plain": [
       "array([6.58052595])"
      ]
     },
     "execution_count": 14,
     "metadata": {},
     "output_type": "execute_result"
    }
   ],
   "source": [
    "N2.s(T=800.33,p=50.)*1.8    # 800.33F == 700K"
   ]
  },
  {
   "cell_type": "markdown",
   "id": "continental-detective",
   "metadata": {},
   "source": [
    "`pm.config` ==  default setting-nya adalah sebagai berikut:<br/>\n",
    "... <br/>\n",
    "     `unit_energy` : 'kJ' <br/>\n",
    "      `unit_force` : 'N' <br/>\n",
    "     `unit_length` : 'm' <br/>\n",
    "       `unit_mass` : 'kg' <br/>\n",
    "     `unit_matter` : 'kg' <br/>\n",
    "      `unit_molar` : 'kmol' <br/>\n",
    "   `unit_pressure` : 'bar' <br/>\n",
    "`unit_temperature` : 'K' <br/>\n",
    "       `unit_time` : 's' <br/>\n",
    "     `unit_volume` : 'm3' <br/>\n",
    "..."
   ]
  },
  {
   "cell_type": "code",
   "execution_count": 15,
   "id": "incomplete-charger",
   "metadata": {},
   "outputs": [
    {
     "data": {
      "text/plain": [
       "28.01348"
      ]
     },
     "execution_count": 15,
     "metadata": {},
     "output_type": "execute_result"
    }
   ],
   "source": [
    "N2.mw()"
   ]
  },
  {
   "cell_type": "code",
   "execution_count": 16,
   "id": "utility-effectiveness",
   "metadata": {},
   "outputs": [
    {
     "data": {
      "text/plain": [
       "array([3.99756896])"
      ]
     },
     "execution_count": 16,
     "metadata": {},
     "output_type": "execute_result"
    }
   ],
   "source": [
    "N2.s()"
   ]
  },
  {
   "cell_type": "code",
   "execution_count": 17,
   "id": "extended-rings",
   "metadata": {},
   "outputs": [
    {
     "data": {
      "text/plain": [
       "array([111.98581814])"
      ]
     },
     "execution_count": 17,
     "metadata": {},
     "output_type": "execute_result"
    }
   ],
   "source": [
    "pm.config['unit_matter'] = 'kmol'\n",
    "N2.s()"
   ]
  },
  {
   "cell_type": "code",
   "execution_count": 22,
   "id": "identical-expansion",
   "metadata": {},
   "outputs": [
    {
     "ename": "AttributeError",
     "evalue": "'dict' object has no attribute 'iteritems'",
     "output_type": "error",
     "traceback": [
      "\u001b[1;31m---------------------------------------------------------------------------\u001b[0m",
      "\u001b[1;31mAttributeError\u001b[0m                            Traceback (most recent call last)",
      "\u001b[1;32m<ipython-input-22-8be60e3ad2ac>\u001b[0m in \u001b[0;36m<module>\u001b[1;34m\u001b[0m\n\u001b[1;32m----> 1\u001b[1;33m \u001b[0mpm\u001b[0m\u001b[1;33m.\u001b[0m\u001b[0munits\u001b[0m\u001b[1;33m.\u001b[0m\u001b[0mshow\u001b[0m\u001b[1;33m(\u001b[0m\u001b[1;33m)\u001b[0m\u001b[1;33m\u001b[0m\u001b[1;33m\u001b[0m\u001b[0m\n\u001b[0m",
      "\u001b[1;32m~\\Anaconda3\\envs\\termo\\lib\\site-packages\\pyromat\\units.py\u001b[0m in \u001b[0;36mshow\u001b[1;34m()\u001b[0m\n\u001b[0;32m    538\u001b[0m \u001b[1;32mdef\u001b[0m \u001b[0mshow\u001b[0m\u001b[1;33m(\u001b[0m\u001b[1;33m)\u001b[0m\u001b[1;33m:\u001b[0m\u001b[1;33m\u001b[0m\u001b[1;33m\u001b[0m\u001b[0m\n\u001b[0;32m    539\u001b[0m     \u001b[1;34m\"\"\"Print a summary of all unit conversions available\"\"\"\u001b[0m\u001b[1;33m\u001b[0m\u001b[1;33m\u001b[0m\u001b[0m\n\u001b[1;32m--> 540\u001b[1;33m     \u001b[1;32mfor\u001b[0m \u001b[0mname\u001b[0m\u001b[1;33m,\u001b[0m\u001b[0mconv\u001b[0m \u001b[1;32min\u001b[0m \u001b[0mpyro\u001b[0m\u001b[1;33m.\u001b[0m\u001b[0munits\u001b[0m\u001b[1;33m.\u001b[0m\u001b[0m__dict__\u001b[0m\u001b[1;33m.\u001b[0m\u001b[0miteritems\u001b[0m\u001b[1;33m(\u001b[0m\u001b[1;33m)\u001b[0m\u001b[1;33m:\u001b[0m\u001b[1;33m\u001b[0m\u001b[1;33m\u001b[0m\u001b[0m\n\u001b[0m\u001b[0;32m    541\u001b[0m         \u001b[1;32mif\u001b[0m \u001b[0misinstance\u001b[0m\u001b[1;33m(\u001b[0m\u001b[0mconv\u001b[0m\u001b[1;33m,\u001b[0m\u001b[0mConversion\u001b[0m\u001b[1;33m)\u001b[0m\u001b[1;33m:\u001b[0m\u001b[1;33m\u001b[0m\u001b[1;33m\u001b[0m\u001b[0m\n\u001b[0;32m    542\u001b[0m             \u001b[0msys\u001b[0m\u001b[1;33m.\u001b[0m\u001b[0mstdout\u001b[0m\u001b[1;33m.\u001b[0m\u001b[0mwrite\u001b[0m\u001b[1;33m(\u001b[0m \u001b[1;34m'%15s : '\u001b[0m\u001b[1;33m%\u001b[0m\u001b[0mname\u001b[0m\u001b[1;33m)\u001b[0m\u001b[1;33m\u001b[0m\u001b[1;33m\u001b[0m\u001b[0m\n",
      "\u001b[1;31mAttributeError\u001b[0m: 'dict' object has no attribute 'iteritems'"
     ]
    }
   ],
   "source": [
    "pm.units.show()"
   ]
  },
  {
   "cell_type": "markdown",
   "id": "transparent-plaintiff",
   "metadata": {},
   "source": [
    "## Working with arrays"
   ]
  },
  {
   "cell_type": "code",
   "execution_count": 23,
   "id": "stupid-charity",
   "metadata": {},
   "outputs": [],
   "source": [
    "import numpy as np"
   ]
  },
  {
   "cell_type": "code",
   "execution_count": 24,
   "id": "rising-still",
   "metadata": {},
   "outputs": [
    {
     "data": {
      "text/plain": [
       "array([ 3618.21263508,  5252.39756517,  6898.08026197,  8558.17994855,\n",
       "       10235.34538703, 11931.80610157, 13649.22360133])"
      ]
     },
     "execution_count": 24,
     "metadata": {},
     "output_type": "execute_result"
    }
   ],
   "source": [
    "T = np.arange(300., 1000.,100.) #start, finish, number of points\n",
    "N2.h(T)"
   ]
  },
  {
   "cell_type": "code",
   "execution_count": 25,
   "id": "charming-brave",
   "metadata": {},
   "outputs": [
    {
     "data": {
      "text/plain": [
       "array([ 98.82107136,  99.66220196, 100.46648834])"
      ]
     },
     "execution_count": 25,
     "metadata": {},
     "output_type": "execute_result"
    }
   ],
   "source": [
    "T = np.array([500., 550., 600.]);\n",
    "p = 40.5;\n",
    "N2.s(T,p)"
   ]
  },
  {
   "cell_type": "code",
   "execution_count": null,
   "id": "blind-revolution",
   "metadata": {},
   "outputs": [],
   "source": []
  },
  {
   "cell_type": "code",
   "execution_count": null,
   "id": "departmental-arthur",
   "metadata": {},
   "outputs": [],
   "source": []
  },
  {
   "cell_type": "code",
   "execution_count": null,
   "id": "available-fever",
   "metadata": {},
   "outputs": [],
   "source": []
  },
  {
   "cell_type": "markdown",
   "id": "dying-receipt",
   "metadata": {},
   "source": [
    "[Making surface plots](http://pyromat.org/doc_howto.html#plot_surf); [the code is here](http://pyromat.org/src/steamtest.py)"
   ]
  },
  {
   "cell_type": "code",
   "execution_count": 26,
   "id": "physical-perry",
   "metadata": {},
   "outputs": [
    {
     "ename": "TypeError",
     "evalue": "_sat_argparse() got an unexpected keyword argument 'tp'",
     "output_type": "error",
     "traceback": [
      "\u001b[1;31m---------------------------------------------------------------------------\u001b[0m",
      "\u001b[1;31mTypeError\u001b[0m                                 Traceback (most recent call last)",
      "\u001b[1;32m<ipython-input-26-82a1c5c65bec>\u001b[0m in \u001b[0;36m<module>\u001b[1;34m\u001b[0m\n\u001b[0;32m     33\u001b[0m \u001b[1;31m# it also returns the saturation temperature and pressure.\u001b[0m\u001b[1;33m\u001b[0m\u001b[1;33m\u001b[0m\u001b[1;33m\u001b[0m\u001b[0m\n\u001b[0;32m     34\u001b[0m \u001b[1;31m# This is more efficient than separate calls to Ts and ps.\u001b[0m\u001b[1;33m\u001b[0m\u001b[1;33m\u001b[0m\u001b[1;33m\u001b[0m\u001b[0m\n\u001b[1;32m---> 35\u001b[1;33m \u001b[0mTs\u001b[0m\u001b[1;33m,\u001b[0m\u001b[0mps\u001b[0m\u001b[1;33m,\u001b[0m\u001b[0mdL\u001b[0m\u001b[1;33m,\u001b[0m\u001b[0mdV\u001b[0m \u001b[1;33m=\u001b[0m \u001b[0mS\u001b[0m\u001b[1;33m.\u001b[0m\u001b[0mds\u001b[0m\u001b[1;33m(\u001b[0m\u001b[0mT\u001b[0m\u001b[1;33m=\u001b[0m\u001b[0mTs\u001b[0m\u001b[1;33m,\u001b[0m\u001b[0mtp\u001b[0m\u001b[1;33m=\u001b[0m\u001b[1;32mTrue\u001b[0m\u001b[1;33m)\u001b[0m\u001b[1;33m\u001b[0m\u001b[1;33m\u001b[0m\u001b[0m\n\u001b[0m\u001b[0;32m     36\u001b[0m \u001b[1;31m# It is faster to explicitly pass both Ts and ps to the saturation methods.\u001b[0m\u001b[1;33m\u001b[0m\u001b[1;33m\u001b[0m\u001b[1;33m\u001b[0m\u001b[0m\n\u001b[0;32m     37\u001b[0m \u001b[1;31m# This saves them a redundant call to Ts or ps since both are required anyway.\u001b[0m\u001b[1;33m\u001b[0m\u001b[1;33m\u001b[0m\u001b[1;33m\u001b[0m\u001b[0m\n",
      "\u001b[1;32m~\\Anaconda3\\envs\\termo\\lib\\site-packages\\pyromat\\registry\\mp1.py\u001b[0m in \u001b[0;36mds\u001b[1;34m(self, *varg, **kwarg)\u001b[0m\n\u001b[0;32m   2114\u001b[0m \u001b[1;33m[\u001b[0m\u001b[0munit_matter\u001b[0m \u001b[1;33m/\u001b[0m \u001b[0munit_volume\u001b[0m\u001b[1;33m]\u001b[0m\u001b[1;33m\u001b[0m\u001b[1;33m\u001b[0m\u001b[0m\n\u001b[0;32m   2115\u001b[0m \"\"\"\n\u001b[1;32m-> 2116\u001b[1;33m         \u001b[0m_\u001b[0m\u001b[1;33m,\u001b[0m\u001b[0mdL\u001b[0m\u001b[1;33m,\u001b[0m\u001b[0mdV\u001b[0m \u001b[1;33m=\u001b[0m \u001b[0mself\u001b[0m\u001b[1;33m.\u001b[0m\u001b[0m_sat_argparse\u001b[0m\u001b[1;33m(\u001b[0m\u001b[1;33m*\u001b[0m\u001b[0mvarg\u001b[0m\u001b[1;33m,\u001b[0m \u001b[1;33m**\u001b[0m\u001b[0mkwarg\u001b[0m\u001b[1;33m)\u001b[0m\u001b[1;33m\u001b[0m\u001b[1;33m\u001b[0m\u001b[0m\n\u001b[0m\u001b[0;32m   2117\u001b[0m         \u001b[1;31m# Get a conversion factor\u001b[0m\u001b[1;33m\u001b[0m\u001b[1;33m\u001b[0m\u001b[1;33m\u001b[0m\u001b[0m\n\u001b[0;32m   2118\u001b[0m         conv = pm.units.matter(1., self.data['mw'],\n",
      "\u001b[1;31mTypeError\u001b[0m: _sat_argparse() got an unexpected keyword argument 'tp'"
     ]
    }
   ],
   "source": [
    "#\n",
    "#   Steam phase change demo\n",
    "#   By Chris Martin (c) 2016\n",
    "#   GPL v3.0\n",
    "#   Enjoy!\n",
    "#\n",
    "# In this code, we generate a surface plot that spans the saturation\n",
    "# curve from triple point to critical point.  We'll add two red lines\n",
    "# to show where the liquid- and gas-phase saturation properties are in \n",
    "# each plot.  \n",
    "\n",
    "import pyromat as pyro\n",
    "import matplotlib.pyplot as plt\n",
    "from mpl_toolkits.mplot3d import Axes3D\n",
    "import numpy as np\n",
    "\n",
    "\n",
    "# Start with a blank slate\n",
    "plt.close('all')\n",
    "\n",
    "# Get the steam object\n",
    "S = pyro.get('mp.H2O')\n",
    "\n",
    "# Get the critical and triple point properties\n",
    "Tt,pt = S.triple()\n",
    "Tc,pc = S.critical()\n",
    "\n",
    "# Explore the temperatures between Tt and Tc in 5K increments\n",
    "Ts = np.arange(Tt,Tc,5.)\n",
    "\n",
    "# Now, obtain the saturation properties\n",
    "# Note that when a saturation property is called with the \"tp\" flag True\n",
    "# it also returns the saturation temperature and pressure.\n",
    "# This is more efficient than separate calls to Ts and ps.\n",
    "Ts,ps,dL,dV = S.ds(T=Ts,tp=True)\n",
    "# It is faster to explicitly pass both Ts and ps to the saturation methods.\n",
    "# This saves them a redundant call to Ts or ps since both are required anyway.\n",
    "hL,hV = S.hs(T=Ts,p=ps)\n",
    "sL,sV = S.ss(T=Ts,p=ps)\n",
    "eL,eV = S.es(T=Ts,p=ps)\n",
    "# Note that this code results in warnings that the accuracy of saturation\n",
    "# properties is reduced above 623.15K.  This is normal; PYro is simply \n",
    "# making sure the user is aware that saturation properties in this region \n",
    "# can be difficult to provide accurately.\n",
    "\n",
    "# Now, crank out some surface plots\n",
    "T,p = np.meshgrid(Ts,ps)\n",
    "\n",
    "# Calculate density, enthalpy, entropy, and internal energy\n",
    "d = S.d(T,p)\n",
    "h = S.h(T,p)\n",
    "s = S.s(T,p)\n",
    "e = S.e(T,p)\n",
    "\n",
    "\n",
    "f = plt.figure(1)\n",
    "ax = f.add_subplot(111,projection='3d')\n",
    "ax.plot_surface(T,p,d)\n",
    "ax.plot(Ts,ps,dL,'r')\n",
    "ax.plot(Ts,ps,dV,'r')\n",
    "ax.set_xlabel('T')\n",
    "ax.set_ylabel('p')\n",
    "ax.set_zlabel('density')\n",
    "\n",
    "f = plt.figure(2)\n",
    "ax = f.add_subplot(111,projection='3d')\n",
    "ax.plot_surface(T,p,h)\n",
    "ax.plot(Ts,ps,hL,'r')\n",
    "ax.plot(Ts,ps,hV,'r')\n",
    "ax.set_xlabel('T')\n",
    "ax.set_ylabel('p')\n",
    "ax.set_zlabel('enthalpy')\n",
    "\n",
    "f = plt.figure(3)\n",
    "ax = f.add_subplot(111,projection='3d')\n",
    "ax.plot_surface(T,p,s)\n",
    "ax.plot(Ts,ps,sL,'r')\n",
    "ax.plot(Ts,ps,sV,'r')\n",
    "ax.set_xlabel('T')\n",
    "ax.set_ylabel('p')\n",
    "ax.set_zlabel('entropy')\n",
    "\n",
    "f = plt.figure(4)\n",
    "ax = f.add_subplot(111,projection='3d')\n",
    "ax.plot_surface(T,p,e)\n",
    "ax.plot(Ts,ps,eL,'r')\n",
    "ax.plot(Ts,ps,eV,'r')\n",
    "ax.set_xlabel('T')\n",
    "ax.set_ylabel('p')\n",
    "ax.set_zlabel('energy')\n",
    "\n",
    "plt.show(block=False)"
   ]
  },
  {
   "cell_type": "code",
   "execution_count": null,
   "id": "elementary-interface",
   "metadata": {},
   "outputs": [],
   "source": []
  }
 ],
 "metadata": {
  "kernelspec": {
   "display_name": "Python 3",
   "language": "python",
   "name": "python3"
  },
  "language_info": {
   "codemirror_mode": {
    "name": "ipython",
    "version": 3
   },
   "file_extension": ".py",
   "mimetype": "text/x-python",
   "name": "python",
   "nbconvert_exporter": "python",
   "pygments_lexer": "ipython3",
   "version": "3.8.8"
  }
 },
 "nbformat": 4,
 "nbformat_minor": 5
}
