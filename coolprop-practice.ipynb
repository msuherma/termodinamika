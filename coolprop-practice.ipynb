{
 "cells": [
  {
   "cell_type": "markdown",
   "id": "mineral-energy",
   "metadata": {},
   "source": [
    "http://www.coolprop.org/v4/apidoc/HumidAirProp.html"
   ]
  },
  {
   "cell_type": "code",
   "execution_count": 11,
   "id": "undefined-petersburg",
   "metadata": {},
   "outputs": [],
   "source": [
    "import CoolProp as cp\n",
    "from CoolProp.CoolProp import PropsSI"
   ]
  },
  {
   "cell_type": "code",
   "execution_count": 21,
   "id": "remarkable-attribute",
   "metadata": {},
   "outputs": [
    {
     "name": "stdout",
     "output_type": "stream",
     "text": [
      "2675529.3255007486\n"
     ]
    }
   ],
   "source": [
    "# Saturated vapor entalpy of Water at 1 atm in J/kg\n",
    "H_V = PropsSI('H', 'P', 101325, 'Q', 1, 'Water')\n",
    "print(H_V)"
   ]
  },
  {
   "cell_type": "code",
   "execution_count": 23,
   "id": "requested-watch",
   "metadata": {},
   "outputs": [
    {
     "name": "stdout",
     "output_type": "stream",
     "text": [
      "373.1242958476844\n"
     ]
    }
   ],
   "source": [
    "# Saturated vapor Temperature of Water at 1 atm in J/kg\n",
    "T_V = PropsSI('T', 'P', 101325, 'Q', 0, 'Water')\n",
    "print(T_V)"
   ]
  },
  {
   "cell_type": "code",
   "execution_count": 24,
   "id": "legal-scenario",
   "metadata": {},
   "outputs": [
    {
     "name": "stdout",
     "output_type": "stream",
     "text": [
      "419057.7330940691\n"
     ]
    }
   ],
   "source": [
    "# Saturated vapor entalpy of Water at 1 atm in J/kg\n",
    "H_L = PropsSI('H', 'P', 101325, 'Q', 0, 'Water')\n",
    "print(H_L)"
   ]
  },
  {
   "cell_type": "code",
   "execution_count": 25,
   "id": "biblical-accommodation",
   "metadata": {},
   "outputs": [
    {
     "data": {
      "text/plain": [
       "2256471.5924066794"
      ]
     },
     "execution_count": 25,
     "metadata": {},
     "output_type": "execute_result"
    }
   ],
   "source": [
    "# Latent heat of vaporization of Water at 1 atm in J/kg\n",
    "\n",
    "H_V - H_L\n"
   ]
  },
  {
   "cell_type": "code",
   "execution_count": null,
   "id": "adopted-piece",
   "metadata": {},
   "outputs": [],
   "source": []
  }
 ],
 "metadata": {
  "kernelspec": {
   "display_name": "Python 3",
   "language": "python",
   "name": "python3"
  },
  "language_info": {
   "codemirror_mode": {
    "name": "ipython",
    "version": 3
   },
   "file_extension": ".py",
   "mimetype": "text/x-python",
   "name": "python",
   "nbconvert_exporter": "python",
   "pygments_lexer": "ipython3",
   "version": "3.8.8"
  }
 },
 "nbformat": 4,
 "nbformat_minor": 5
}
