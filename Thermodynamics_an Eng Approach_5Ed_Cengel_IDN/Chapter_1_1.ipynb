{
 "cells": [
  {
   "cell_type": "markdown",
   "metadata": {
    "colab_type": "text",
    "id": "ziU_SlTOvL72"
   },
   "source": [
    "## **Thermodynamics: an Engineering Approach, 7th Ed**\n",
    "Cengel & Boles"
   ]
  },
  {
   "cell_type": "markdown",
   "metadata": {
    "colab_type": "text",
    "id": "rcBlleWxvIKe"
   },
   "source": [
    "# Chapter 1: Introduction and Basic Concepts"
   ]
  },
  {
   "cell_type": "markdown",
   "metadata": {
    "colab_type": "text",
    "id": "Nt6RAbHWxPUR"
   },
   "source": [
    "##Example 1-1, Page.8\n"
   ]
  },
  {
   "cell_type": "code",
   "execution_count": null,
   "metadata": {
    "colab": {
     "base_uri": "https://localhost:8080/",
     "height": 51
    },
    "colab_type": "code",
    "executionInfo": {
     "elapsed": 326,
     "status": "ok",
     "timestamp": 1597824602070,
     "user": {
      "displayName": "Mukhamad Suhermanto, S.Pd, M.Eng",
      "photoUrl": "",
      "userId": "00966700570926337399"
     },
     "user_tz": 240
    },
    "id": "171XBkL2vpet",
    "outputId": "c8febdf6-e550-49ff-d026-cd97538f00ae"
   },
   "outputs": [
    {
     "name": "stdout",
     "output_type": "stream",
     "text": [
      "Total energi adalah 66000.000000 kWh\n",
      "Total pengiritan adalah 5940.000000 USD\n"
     ]
    }
   ],
   "source": [
    "#Diketahui:\n",
    "El_USD = 0.09 # Harga Listrik adalah 0.09 $/kWh\n",
    "P_wt = 30 # Wind Turbine power rate,  kW\n",
    "t_wt = 2200 # Durasi kerja Wind Turbine dalam satu tahun, hours\n",
    "\n",
    "#Dicari: pengiritan per tahun (?)\n",
    "#Jawab:\n",
    "E_tot = P_wt * t_wt\n",
    "print ('Total energi adalah %f kWh' %round(E_tot,0))\n",
    "\n",
    "#Uang yang diirit:\n",
    "Saved_USD = E_tot * El_USD\n",
    "print ('Total pengiritan adalah %f USD' %round(Saved_USD,0))"
   ]
  },
  {
   "cell_type": "markdown",
   "metadata": {
    "colab_type": "text",
    "id": "wo_47KS1vIKi"
   },
   "source": [
    "## Example 1-2, Page No.9\n"
   ]
  },
  {
   "cell_type": "code",
   "execution_count": null,
   "metadata": {
    "colab": {},
    "colab_type": "code",
    "id": "SHw7tkL0vIKl",
    "outputId": "db2ffad1-ac76-4668-fe46-96739885df95"
   },
   "outputs": [
    {
     "name": "stdout",
     "output_type": "stream",
     "text": [
      "Massa minyak di dalam tangki adalah 1700 kg\n"
     ]
    }
   ],
   "source": [
    "#Diketahui:\n",
    "p=850;# densitas [kg/m^3]\n",
    "V=2;  # volume tangki [m^3]\n",
    "\n",
    "#Dicari: Massa (?)\n",
    "m=p*V;# rumus massa\n",
    "\n",
    "#Hasil:\n",
    "print ('Massa minyak di dalam tangki adalah %i kg' %round(m,0))\n"
   ]
  },
  {
   "cell_type": "markdown",
   "metadata": {
    "colab_type": "text",
    "id": "CnS0OZGdvIK5"
   },
   "source": [
    "## Example 1-3, Page No.10\n"
   ]
  },
  {
   "cell_type": "code",
   "execution_count": 1,
   "metadata": {
    "colab": {
     "base_uri": "https://localhost:8080/",
     "height": 34
    },
    "colab_type": "code",
    "executionInfo": {
     "elapsed": 464,
     "status": "ok",
     "timestamp": 1599060416119,
     "user": {
      "displayName": "Mukhamad Suhermanto, S.Pd, M.Eng",
      "photoUrl": "",
      "userId": "00966700570926337399"
     },
     "user_tz": 240
    },
    "id": "atD92uCCvIK9",
    "outputId": "72c5d485-27fb-4a88-8ba6-397cb4f796d8"
   },
   "outputs": [
    {
     "name": "stdout",
     "output_type": "stream",
     "text": [
      "Berat benda tersebut di bumi adalah 1 lbf\n"
     ]
    }
   ],
   "source": [
    "\n",
    "#Diketahui\n",
    "m=1; # massa seberat 1 lbm \n",
    "#Konstanta yang dipakai\n",
    "g=32.174;# konstanta gravitasi, ft/s^2\n",
    "\n",
    "#Dicari: Berat (w)\n",
    "lbf = 32.174 # Konversi 1 lbf = 32.174 lbm.ft/s^2\n",
    "w=(m*g)*(1/lbf); # berat = massa * gravitasi\n",
    "                 # konversi lbf ke lbm diperlukan\n",
    "\n",
    "\n",
    "#Result\n",
    "print ('Berat benda tersebut di bumi adalah %i lbf' %w)\n"
   ]
  },
  {
   "cell_type": "markdown",
   "metadata": {
    "colab_type": "text",
    "id": "VFI-suHYvILK"
   },
   "source": [
    "## Example 1-4, Page No.21"
   ]
  },
  {
   "cell_type": "code",
   "execution_count": null,
   "metadata": {
    "colab": {
     "base_uri": "https://localhost:8080/",
     "height": 68
    },
    "colab_type": "code",
    "executionInfo": {
     "elapsed": 561,
     "status": "ok",
     "timestamp": 1598984489186,
     "user": {
      "displayName": "Mukhamad Suhermanto, S.Pd, M.Eng",
      "photoUrl": "",
      "userId": "00966700570926337399"
     },
     "user_tz": 240
    },
    "id": "y6DJkUoGvILN",
    "outputId": "9be74f12-34a6-485c-8324-d8acccdc87bd"
   },
   "outputs": [
    {
     "name": "stdout",
     "output_type": "stream",
     "text": [
      "perubahan suhu tersebut adalah 10 K\n",
      "perubahan suhu tersebut adalah 18 R\n",
      "perubahan suhu tersebut adalah 18 F\n"
     ]
    }
   ],
   "source": [
    "\n",
    "\n",
    "# Diketahui\n",
    "Tc=10; #deltaT karena proses pemberian kalor, C\n",
    "\n",
    "# Calculations\n",
    "Tk=Tc;\n",
    "Tr=1.8*Tk;#Konversi dari R ke K\n",
    "Tf=Tr;\n",
    "# Dihitung dengan rumus di atas\n",
    "\n",
    "#Hasil\n",
    "print ('perubahan suhu tersebut adalah %i K' %Tk)\n",
    "print ('perubahan suhu tersebut adalah %i R' %Tr)\n",
    "print ('perubahan suhu tersebut adalah %i F' %Tf)\n"
   ]
  },
  {
   "cell_type": "markdown",
   "metadata": {
    "colab_type": "text",
    "id": "VNceXkN0vILZ"
   },
   "source": [
    "## Example 1-5, Page No.23"
   ]
  },
  {
   "cell_type": "code",
   "execution_count": 2,
   "metadata": {
    "colab": {
     "base_uri": "https://localhost:8080/",
     "height": 34
    },
    "colab_type": "code",
    "executionInfo": {
     "elapsed": 425,
     "status": "ok",
     "timestamp": 1599060631318,
     "user": {
      "displayName": "Mukhamad Suhermanto, S.Pd, M.Eng",
      "photoUrl": "",
      "userId": "00966700570926337399"
     },
     "user_tz": 240
    },
    "id": "kmFpZKi3vILb",
    "outputId": "7a418562-045e-4e8b-d6f4-75e05eebe2ef"
   },
   "outputs": [
    {
     "name": "stdout",
     "output_type": "stream",
     "text": [
      "P_absolut dari ruangan tersebut adalah 8.700000 psi\n"
     ]
    }
   ],
   "source": [
    "#Diketahui\n",
    "Patm=14.5; #tekanan atmosfir, psi\n",
    "Pvac=5.8;  #pembacaan vacuum gage, psi\n",
    "\n",
    "#Proses perhitungan\n",
    "Pabs=Patm-Pvac;#vacuum selalu dihitung sbg tekanan negatif\n",
    "\n",
    "#Hasil\n",
    "print('P_absolut dari ruangan tersebut adalah %f psi'%round(Pabs,1))\n"
   ]
  },
  {
   "cell_type": "markdown",
   "metadata": {
    "colab_type": "text",
    "id": "xDf9OgzrvILl"
   },
   "source": [
    "## Example 1-6, Page No.26"
   ]
  },
  {
   "cell_type": "code",
   "execution_count": 4,
   "metadata": {
    "colab": {
     "base_uri": "https://localhost:8080/",
     "height": 34
    },
    "colab_type": "code",
    "executionInfo": {
     "elapsed": 380,
     "status": "ok",
     "timestamp": 1599061021444,
     "user": {
      "displayName": "Mukhamad Suhermanto, S.Pd, M.Eng",
      "photoUrl": "",
      "userId": "00966700570926337399"
     },
     "user_tz": 240
    },
    "id": "Ct-3oQOSvILm",
    "outputId": "bc9925af-20d3-4325-83ea-8317f809b163"
   },
   "outputs": [
    {
     "name": "stdout",
     "output_type": "stream",
     "text": [
      "absolute pressure in tank 100.600000 kPa\n"
     ]
    }
   ],
   "source": [
    "#Diketahui:\n",
    "pw=1000; # Densitas air, kg/m^3;\n",
    "g=9.81; # Gravitasi, m/s^2;\n",
    "SG=0.85;# Specific Gravity/Dens. Relatif fluida di manometer\n",
    "meter = 100 # 1 m = 100 cm, cm\n",
    "h=55/meter;# tinggi dalam satuan, cm\n",
    "Patm=96;# Tekanan Atmosfir, kPa\n",
    "\n",
    "# Jawab\n",
    "# Menghitung P menggunakan likuid pada ketinggian yang sama\n",
    "p=SG*pw;\n",
    "Ptank_abs=Patm+(p*g*h/1000); \n",
    "\n",
    "\n",
    "#Results\n",
    "print ('absolute pressure in tank %f kPa' %round(Ptank_abs,1))\n"
   ]
  },
  {
   "cell_type": "markdown",
   "metadata": {
    "colab_type": "text",
    "id": "UxbIlcisvILs"
   },
   "source": [
    "## Example 1-7, Page No.28"
   ]
  },
  {
   "cell_type": "code",
   "execution_count": null,
   "metadata": {
    "colab": {},
    "colab_type": "code",
    "id": "QqFqzI0MvILv",
    "outputId": "d2d06e04-9a34-4000-a29a-c1a97c2c3989"
   },
   "outputs": [
    {
     "name": "stdout",
     "output_type": "stream",
     "text": [
      "the air pressure in tank 130 kPa\n"
     ]
    }
   ],
   "source": [
    "#Constants used\n",
    "g=9.81;#acceleration due to gravity in m/s^2;\n",
    "\n",
    "#Given values\n",
    "h1=0.1;# distance b/w point 1 at air-water interface and point 2 at mercury-air interface in m\n",
    "h2=0.2;# distance b/w oil-water interface and  mercury-oil interface in m\n",
    "h3=0.35;# distance b/w air-mercury interface and  mercury-oil interface in m\n",
    "pw=1000;# density of water in kg/m^3\n",
    "pHg=13600;# density of mercury in kg/m^3\n",
    "poil=800;# density of oil in kg/m^3\n",
    "Patm=85.6;# atmospheric pressure in kPa\n",
    "\n",
    "#Calculation\n",
    "P1=Patm-(pw*g*h1+poil*g*h2-pHg*g*h3)/1000;#calculating pressure using liquid at same height have same pressure\n",
    "\n",
    "#Results\n",
    "print ('the air pressure in tank %i kPa' %round(P1))\n"
   ]
  },
  {
   "cell_type": "markdown",
   "metadata": {
    "colab_type": "text",
    "id": "pb_1qcn4vIL4"
   },
   "source": [
    "## Example 1-8, Page No.31"
   ]
  },
  {
   "cell_type": "code",
   "execution_count": null,
   "metadata": {
    "colab": {},
    "colab_type": "code",
    "id": "NaXScVvGvIL5",
    "outputId": "7dc231bf-0309-4773-f8e6-d12df3bba15f"
   },
   "outputs": [
    {
     "name": "stdout",
     "output_type": "stream",
     "text": [
      "the atmospheric pressure 98.500000 kPa\n"
     ]
    }
   ],
   "source": [
    "#Constants used\n",
    "g=9.81;# acceleration due to gravity in m/s^2;\n",
    "\n",
    "#Given values\n",
    "pHg=13570;# density of mercury at 10 C in kg/m^3\n",
    "h=0.74;# converting barometric reading into m from mm\n",
    "\n",
    "#Calculationa\n",
    "Patm=pHg*g*h/1000;# standard  pressure formula\n",
    "\n",
    "#Results\n",
    "print ('the atmospheric pressure %f kPa' %round(Patm,1))\n"
   ]
  },
  {
   "cell_type": "markdown",
   "metadata": {
    "colab_type": "text",
    "id": "vCO9fRY6vIL-"
   },
   "source": [
    "## Example 1-9, Page No.31"
   ]
  },
  {
   "cell_type": "code",
   "execution_count": null,
   "metadata": {
    "colab": {},
    "colab_type": "code",
    "id": "ZfR_E5MSvIL_",
    "outputId": "6d32f025-5121-4cdc-dc77-0123a67a4087"
   },
   "outputs": [
    {
     "name": "stdout",
     "output_type": "stream",
     "text": [
      "The pressure inside the cylinder 1.120000 bar\n",
      "If some heat is transferred to the gas and its volume is doubled, there is no change in pressure\n"
     ]
    }
   ],
   "source": [
    "#constants used\n",
    "g=9.81;#acceleration due to gravity in m/s^2;\n",
    "\n",
    "#given values\n",
    "m=60;# mass of piston in kg\n",
    "Patm=0.97;# atmospheric pressure in kPa\n",
    "A=0.04;# cross-sectional area in m^2\n",
    "\n",
    "#calculation\n",
    "P=Patm+(m*g/A)/100000;# standard  pressure formula\n",
    "print ('The pressure inside the cylinder %f bar' %round(P,2))\n",
    "#The volume change will have no effect on the free-body diagram drawn in part (a), and therefore the pressure inside the cylinder will remain the same\n",
    "print('If some heat is transferred to the gas and its volume is doubled, there is no change in pressure');\n"
   ]
  },
  {
   "cell_type": "markdown",
   "metadata": {
    "colab_type": "text",
    "id": "ISeVwMAyvIME"
   },
   "source": [
    "## Example 1-10, Page No.32"
   ]
  },
  {
   "cell_type": "code",
   "execution_count": null,
   "metadata": {
    "colab": {},
    "colab_type": "code",
    "id": "70IRNVJgvIME",
    "outputId": "ca64b021-d09f-439c-bd3b-4ef355d47bba"
   },
   "outputs": [
    {
     "name": "stdout",
     "output_type": "stream",
     "text": [
      "the gage pressure at the bottom of gradient zone 54.000000 kPa\n"
     ]
    }
   ],
   "source": [
    "import math\n",
    "from scipy.integrate import quad \n",
    "from pylab import *\n",
    "\n",
    "#Constants used\n",
    "g=9.81;#acceleration due to gravity in m/s^2;\n",
    "\n",
    "#Given values\n",
    "p=1040;# density on the water surface in kg/m^3\n",
    "h1=0.8;# thickness of surface zone\n",
    "H=4;# thickness of gradient zone\n",
    "x0=0.0;# lower limit of integration\n",
    "x1=4.0;# upper limit of integration\n",
    "\n",
    "\n",
    "#Calculations\n",
    "P1=p*g*h1/1000;#standard  pressure determination formula\n",
    "#P2 = integration of the exp. p*g*(math.sqrt(1+(math.tan(math.pi*z/4/H)^2))) b/w 0-4\n",
    "def intgrnd1(z): \n",
    " return (p*g*(math.sqrt(1+(math.tan(math.pi*(z)/4/H)**2))) )#integrant\n",
    "P2, err = quad(intgrnd1, x0, x1) \n",
    "P2=P2/1000;#converting into kPa\n",
    "P=P1+P2;\n",
    "\n",
    "#Results\n",
    "print ('the gage pressure at the bottom of gradient zone %f kPa' %round(P,0))\n"
   ]
  },
  {
   "cell_type": "code",
   "execution_count": null,
   "metadata": {
    "colab": {},
    "colab_type": "code",
    "id": "NrgrD0YovIMJ"
   },
   "outputs": [],
   "source": []
  }
 ],
 "metadata": {
  "colab": {
   "collapsed_sections": [],
   "name": "Chapter1_1.ipynb",
   "provenance": []
  },
  "kernelspec": {
   "display_name": "Python 3",
   "language": "python",
   "name": "python3"
  },
  "language_info": {
   "codemirror_mode": {
    "name": "ipython",
    "version": 3
   },
   "file_extension": ".py",
   "mimetype": "text/x-python",
   "name": "python",
   "nbconvert_exporter": "python",
   "pygments_lexer": "ipython3",
   "version": "3.9.1"
  }
 },
 "nbformat": 4,
 "nbformat_minor": 4
}
