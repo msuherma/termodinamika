{
 "cells": [
  {
   "cell_type": "markdown",
   "metadata": {
    "colab_type": "text",
    "id": "t_U-vsUJ4NrE"
   },
   "source": [
    "# __Chapter 3: Properties of Pure Substances__"
   ]
  },
  {
   "cell_type": "markdown",
   "metadata": {
    "colab_type": "text",
    "id": "MEi4l1am4NrJ"
   },
   "source": [
    "## Example 3-1 ,Page No.125"
   ]
  },
  {
   "cell_type": "markdown",
   "metadata": {
    "colab_type": "text",
    "id": "ZrkxCA9c7pmQ"
   },
   "source": [
    "### **3-1 Tekanan saturated Liquid dalam sebuah tangki**\n",
    "\n",
    "Sebuah tangki berisi 50 kg saturated liquid air bertemperatur 90 Celcius.  Tentukan tekanan di dalam tangki dan volumenya. \n"
   ]
  },
  {
   "cell_type": "code",
   "execution_count": null,
   "metadata": {},
   "outputs": [],
   "source": [
    "# import library yang dibutuhkan untuk penghitungan\n"
   ]
  },
  {
   "cell_type": "code",
   "execution_count": null,
   "metadata": {
    "colab": {
     "base_uri": "https://localhost:8080/",
     "height": 52
    },
    "colab_type": "code",
    "executionInfo": {
     "elapsed": 322,
     "status": "ok",
     "timestamp": 1599338034878,
     "user": {
      "displayName": "Mukhamad Suhermanto, S.Pd, M.Eng",
      "photoUrl": "",
      "userId": "00966700570926337399"
     },
     "user_tz": 240
    },
    "id": "bg9TbwGh4NrL",
    "outputId": "e6618e2e-4beb-4f0e-ec2b-03e2c7768730"
   },
   "outputs": [
    {
     "name": "stdout",
     "output_type": "stream",
     "text": [
      "Tekanan Air tersebut adalah 70.183000 kPa\n",
      "Volume totalnya adalah 0.051800 m^3\n"
     ]
    }
   ],
   "source": [
    "#Diketahui:\n",
    "m_H2O=50;#massa H2O sat-liq, kg\n",
    "T_H2O=90;#Suhu H2O, C\n",
    "\n",
    "#Data dari Tabel A-4 - H2O_sat, Tabel Suhu\n",
    "P_H2O=70.183;# tekanan, kPa\n",
    "v_f=0.001036;# volume spesifik likuid, m^3/kg\n",
    "             # pada suhu 90 C \n",
    "\n",
    "#Dicari: P dan V H2O?\n",
    "\n",
    "#Jawab:\n",
    "V_H2O=m_H2O*v_f;#equating dimensions\n",
    "print('Tekanan Air tersebut adalah %f kPa'%round(P_H2O,3));\n",
    "print('Volume totalnya adalah %f m^3'%round(V_H2O,4))\n"
   ]
  },
  {
   "cell_type": "markdown",
   "metadata": {
    "colab_type": "text",
    "id": "HenlfPrU4Nrl"
   },
   "source": [
    "##Example 3-2 ,Page No.126"
   ]
  },
  {
   "cell_type": "markdown",
   "metadata": {
    "colab_type": "text",
    "id": "rb-GYqI7_OkX"
   },
   "source": [
    "# **3-2 Suhu  saturated  vapor   di dalam silinder**\n",
    "\n",
    "# Sebuah perangkat piston silinder berisi 2 ft^3   air  dalam kondisi saturated vapor  bertekanan 50 psia. Tentukan suhu dan massa  dari uap di dalam silinder tersebut.\n"
   ]
  },
  {
   "cell_type": "code",
   "execution_count": null,
   "metadata": {
    "colab": {
     "base_uri": "https://localhost:8080/",
     "height": 52
    },
    "colab_type": "code",
    "executionInfo": {
     "elapsed": 328,
     "status": "ok",
     "timestamp": 1599339117313,
     "user": {
      "displayName": "Mukhamad Suhermanto, S.Pd, M.Eng",
      "photoUrl": "",
      "userId": "00966700570926337399"
     },
     "user_tz": 240
    },
    "id": "9CF4GgsF4Nrn",
    "outputId": "5d5ea03a-d822-4c8b-b085-720d7b7d3896"
   },
   "outputs": [
    {
     "name": "stdout",
     "output_type": "stream",
     "text": [
      "Suhu H2O di dlm silinder 280.990000 F\n",
      "Massa uap di dalam silinder 0.235000 lbm\n"
     ]
    }
   ],
   "source": [
    "#Diketahui:\n",
    "V=2.0;#Volume, ft^3\n",
    "P=50.0;#Tekanan, psia\n",
    "\n",
    "#Data dari Tabel A-5E, British, H2O_sat, P-table\n",
    "T=280.99;#Suhu, F\n",
    "v=8.5175;#volume spesifik, ft^3/lbm\n",
    "\n",
    "#Dicari: suhu dan massa uap tsb\n",
    "\n",
    "#Jawab:\n",
    "m=V/v;#massa = volume total/volume spesifik\n",
    "print('Suhu H2O di dlm silinder %f F'%round(T,2));\n",
    "print('Massa uap di dalam silinder %f lbm'%round(m,3));\n",
    "\n"
   ]
  },
  {
   "cell_type": "markdown",
   "metadata": {
    "colab_type": "text",
    "id": "qnuMbpF24Nr2"
   },
   "source": [
    "##Example 3-3 ,Page No.126"
   ]
  },
  {
   "cell_type": "markdown",
   "metadata": {
    "colab_type": "text",
    "id": "zU1lI3NIGZLn"
   },
   "source": [
    "# **3-3  perubahan volume dan energi selama  proses evaporasi**\n",
    "\n",
    "# Air dalam bentuk saturated liquid  bermassa 200 gram diuapkan secara penuh/komplit pada tekanan konstan 100 kPa. Tentukan (a) perubahan volume dan (b) jumlah energi yang ditransfer ke dalam air.\n"
   ]
  },
  {
   "cell_type": "code",
   "execution_count": null,
   "metadata": {
    "colab": {
     "base_uri": "https://localhost:8080/",
     "height": 52
    },
    "colab_type": "code",
    "executionInfo": {
     "elapsed": 585,
     "status": "ok",
     "timestamp": 1599367569281,
     "user": {
      "displayName": "Mukhamad Suhermanto, S.Pd, M.Eng",
      "photoUrl": "",
      "userId": "00966700570926337399"
     },
     "user_tz": 240
    },
    "id": "-hbs-_8w4Nr4",
    "outputId": "d5836d08-45d1-49b3-d443-3111ddaf2d6d"
   },
   "outputs": [
    {
     "name": "stdout",
     "output_type": "stream",
     "text": [
      "Total perubahan volume 0.338600 m^3\n",
      "Jumlah energi yang ditransfer ke air adalah 451.500000 kJ\n"
     ]
    }
   ],
   "source": [
    "\n",
    "#Diketahui:\n",
    "m=200.0/1000;#massa, dikonversi dr gr ke kg\n",
    "P=100;#Tekanan saat proses, kPa\n",
    "\n",
    "#Data Table A-5\n",
    "v_g=1.6941;#volume specifik liq, m^3/kg\n",
    "v_f=0.001043;#volume specifik vap, m^3/kg\n",
    "\n",
    "h_fg=2257.5 # energi yg diperlukan \n",
    "            # untuk proses penguapan, kJ/kg\n",
    "#Jawab\n",
    "v_fg=v_g-v_f;\n",
    "V=m*v_fg;\n",
    "print('Total perubahan volume %f m^3'%round(V,4))\n",
    "E=m*h_fg;\n",
    "print('Jumlah energi yang ditransfer ke air adalah %f kJ'%round(E,1))\n"
   ]
  },
  {
   "cell_type": "markdown",
   "metadata": {
    "colab_type": "text",
    "id": "ELy0OKBD4NsC"
   },
   "source": [
    "##Example 3-4 ,Page No.131"
   ]
  },
  {
   "cell_type": "markdown",
   "metadata": {
    "colab_type": "text",
    "id": "RS9z8ZDnPVru"
   },
   "source": [
    "# **3-4  Tekanan dan Volume saturated mixture** (hal.128)\n",
    "\n",
    "# Sebuah tangki yang ridgid berisi 10 kg air bersuhu 90 derajat Celcius. Jika 8 kg air dalam bentuk Liquid dan sisanya dalam bentuk uap/vapor,  Tentukan:\n",
    "# (a) tekanan di dalam tangki dan \n",
    "# (b) volume di dalam tangki.\n"
   ]
  },
  {
   "cell_type": "code",
   "execution_count": null,
   "metadata": {
    "colab": {
     "base_uri": "https://localhost:8080/",
     "height": 52
    },
    "colab_type": "code",
    "executionInfo": {
     "elapsed": 512,
     "status": "ok",
     "timestamp": 1599427116930,
     "user": {
      "displayName": "Mukhamad Suhermanto, S.Pd, M.Eng",
      "photoUrl": "",
      "userId": "00966700570926337399"
     },
     "user_tz": 240
    },
    "id": "3S7mAztN4NsE",
    "outputId": "d7fbc6a1-c0d8-46f3-d9d6-ba90cb3f5191"
   },
   "outputs": [
    {
     "name": "stdout",
     "output_type": "stream",
     "text": [
      "(a) Tekanan dalam tangki 70.183000 kPa\n",
      "(b) Volume total air 4.730000 m^3\n"
     ]
    }
   ],
   "source": [
    "#Diketahui:\n",
    "m_t=10#massa total air, kg\n",
    "m_f=8;#massa likuid air, kg\n",
    "T=90;#temperatur, C\n",
    "\n",
    "#Dicari:\n",
    "# (a) tekanan di dalam tangki dan \n",
    "# (b) volume di dalam tangki. \n",
    "\n",
    "# Data dari Tabel A-4\n",
    "P=70.183;#Tekanan air @90 C, kPa\n",
    "v_f=0.001036;#Vol spesifik air fasa likuid, m^3\n",
    "v_g=2.3593;#Vol spesifik air fasa gas, m^3\n",
    "\n",
    "#Jawab:\n",
    "m_g=m_t-m_f; #massa air dlm fasa gas\n",
    "V_t=m_f*v_f+m_g*v_g;# V= V_g + V_f\n",
    "print('(a) Tekanan dalam tangki %f kPa'%round(P,3))\n",
    "print('(b) Volume total air %f m^3'%round(V_t,2));\n",
    "\n"
   ]
  },
  {
   "cell_type": "markdown",
   "metadata": {
    "colab_type": "text",
    "id": "pvnAP-BY4NsO"
   },
   "source": [
    "##Example 3-5 ,Page No.131"
   ]
  },
  {
   "cell_type": "markdown",
   "metadata": {
    "colab_type": "text",
    "id": "LA1X3WmySaIw"
   },
   "source": [
    "# **3-5 Properties dari saturated liquid-vapor mixture** hal.129\n",
    "\n",
    "# Sebuah bejana 80 liter berisi 4 Kg refrigerant R134a bertekanan 160 kPa. Tentukan  (a) suhu, (B) kualitas, (c) entalpi dari refrigerant tersebut, dan (b) volume bejana yang berisi refrigerant berfasa uap/vapor.\n"
   ]
  },
  {
   "cell_type": "code",
   "execution_count": null,
   "metadata": {
    "colab": {
     "base_uri": "https://localhost:8080/",
     "height": 87
    },
    "colab_type": "code",
    "executionInfo": {
     "elapsed": 830,
     "status": "ok",
     "timestamp": 1599428133349,
     "user": {
      "displayName": "Mukhamad Suhermanto, S.Pd, M.Eng",
      "photoUrl": "",
      "userId": "00966700570926337399"
     },
     "user_tz": 240
    },
    "id": "EPV_NDbb4NsR",
    "outputId": "1e1f7929-c516-4318-e3ea-20c8d126b743"
   },
   "outputs": [
    {
     "name": "stdout",
     "output_type": "stream",
     "text": [
      "(a) Suhu R134a adalah -15.600000 celcius\n",
      "(b) Kualitas (x) R134a adalah 0.157000\n",
      "(c) Entalpi (h) R134a adalah 64.100000 kJ/kg\n",
      "(d) Volume bejana yang terisi R134a fasa gas 0.077500 m^3\n"
     ]
    }
   ],
   "source": [
    "#Diketahui\n",
    "m=4;#massa R134a, kg\n",
    "V=80.0/1000;# Vol, konversi ke m^3\n",
    "P=160;#Tekanan, kPa\n",
    "\n",
    "#Dicari: a) T ; b) x ; c) h; d)v_g\n",
    "\n",
    "# Data dari Table A-12\n",
    "v_f=0.0007437;\n",
    "v_g=0.12348;\n",
    "T=-15.60;\n",
    "h_f=31.21;\n",
    "h_fg=209.90;\n",
    "\n",
    "#Jawab\n",
    "v=V/m; #vol spesifik campuran/sat liq-vap mix\n",
    "#vg>v>vf therefore it is a saturated mix\n",
    "#hence temp will same as saturation \n",
    "\n",
    "print('(a) Suhu R134a adalah %f celcius'%round(T,2))\n",
    "x=(v-v_f)/(v_g-v_f);#x=v_g/v_fg, kualitas\n",
    "print('(b) Kualitas (x) R134a adalah %f'%round(x,3))\n",
    "h=h_f+x*h_fg;\n",
    "print('(c) Entalpi (h) R134a adalah %f kJ/kg'%round(h,1));\n",
    "m_g=x*m;\n",
    "V_g=m_g*v_g;\n",
    "print('(d) Volume bejana yang terisi R134a fasa gas %f m^3'%round(V_g,4))\n"
   ]
  },
  {
   "cell_type": "markdown",
   "metadata": {
    "colab_type": "text",
    "id": "qs2YXIxg4Nsc"
   },
   "source": [
    "##Example 3-7 ,Page No.133"
   ]
  },
  {
   "cell_type": "markdown",
   "metadata": {
    "colab_type": "text",
    "id": "9dlLBk88W8Sa"
   },
   "source": [
    "# **3-7 Suhu dari Superheated Vapor** hal.130\n",
    " \n",
    "# Tentukan suhu air pada kondisi/state P=0,5 MPa dan  h= 2890 kj/kg. \n",
    "\n",
    "\n"
   ]
  },
  {
   "cell_type": "code",
   "execution_count": null,
   "metadata": {
    "colab": {
     "base_uri": "https://localhost:8080/",
     "height": 35
    },
    "colab_type": "code",
    "executionInfo": {
     "elapsed": 766,
     "status": "ok",
     "timestamp": 1599430216472,
     "user": {
      "displayName": "Mukhamad Suhermanto, S.Pd, M.Eng",
      "photoUrl": "",
      "userId": "00966700570926337399"
     },
     "user_tz": 240
    },
    "id": "CYj7GAdo4Nse",
    "outputId": "fe231b32-db0b-406e-e996-4a4b93be2c26"
   },
   "outputs": [
    {
     "name": "stdout",
     "output_type": "stream",
     "text": [
      "Suhu air tersebut adalah 216.300000 Celcius\n"
     ]
    }
   ],
   "source": [
    "#Diketahui\n",
    "P=0.5;#Tekanan air, MPa\n",
    "h=2890.0;#Entalpi air, kJ/kg\n",
    "\n",
    "#dicari: Suhu\n",
    "#Data dari Table A–6\n",
    "#@ P=0.5 MPa\n",
    "T_1=200.0;\n",
    "h_1=2855.8;\n",
    "T_2=250;\n",
    "h_2=2961.0;\n",
    "# Ekstrapolasi linear diperlukan\n",
    "\n",
    "#Jawab:\n",
    "#Melalui perhitungan ekstrapolasi\n",
    "#h=h1+(T-T1)/(T2-T1)*(h2-h1)\n",
    "T=(h-h_1)/(h_2-h_1)*(T_2-T_1)+T_1;\n",
    "print('Suhu air tersebut adalah %f Celcius'%round(T,1))\n"
   ]
  },
  {
   "cell_type": "markdown",
   "metadata": {
    "colab_type": "text",
    "id": "TfnXj4WX4Nsm"
   },
   "source": [
    "##Example 3-8 ,Page No.134"
   ]
  },
  {
   "cell_type": "markdown",
   "metadata": {
    "colab_type": "text",
    "id": "EVDkM-lUeaTs"
   },
   "source": [
    "# **3-8 Memperkirakan Compressed Liquid  sebagai saturated liquid**\n",
    "\n",
    "# Tentukan energi internal  air  pada kondisi fasa  saturated liquid  yang memiliki suhu 80 C dan dan tekanan 5 MPA, dengan menggunakan (a) data dari tabel compressed liquid dan (b)  data  tabel saturated liquid.   Hitunglah Prosentase kesalahan yang terjadi pada kasus yang kedua?\n",
    "\n"
   ]
  },
  {
   "cell_type": "code",
   "execution_count": null,
   "metadata": {
    "colab": {
     "base_uri": "https://localhost:8080/",
     "height": 69
    },
    "colab_type": "code",
    "executionInfo": {
     "elapsed": 766,
     "status": "ok",
     "timestamp": 1599430890568,
     "user": {
      "displayName": "Mukhamad Suhermanto, S.Pd, M.Eng",
      "photoUrl": "",
      "userId": "00966700570926337399"
     },
     "user_tz": 240
    },
    "id": "gExlgCzU4Nsn",
    "outputId": "a056c36e-4f9c-4109-ab9b-dafdb0f950d6"
   },
   "outputs": [
    {
     "name": "stdout",
     "output_type": "stream",
     "text": [
      "Energi internal fasa compressed liq adalah 333.820000 kJ/kg \n",
      "Energi internal fasa saturated liq adalah 334.970000 kJ/kg \n",
      "Prosentase kesalahan 0.340000 persen\n"
     ]
    }
   ],
   "source": [
    "#Diketahui:\n",
    "T=80;#T air fasa compressed liquid, C\n",
    "P=5;#pressure in KPa\n",
    "\n",
    "#Dicari: u (a) berdasar tabel compressed liq\n",
    "          #(b) berdasar tabel sat liq\n",
    "\n",
    "#Data dari Table A–7\n",
    "# air fasa comp liq\n",
    "u_comp_liq=333.82;\n",
    "\n",
    "#Dari Table A-4\n",
    "#air fasa saturated liq\n",
    "u_sat_liq=334.97;\n",
    "\n",
    "#Jawab\n",
    "error=(u_sat_liq-u_comp_liq)/u_comp_liq*100;\n",
    "print('Energi internal fasa compressed liq adalah %f kJ/kg '%round(u_comp_liq,2));\n",
    "print('Energi internal fasa saturated liq adalah %f kJ/kg '%round(u_sat_liq,2));\n",
    "print('Prosentase kesalahan %f persen'%round(error,2))\n"
   ]
  },
  {
   "cell_type": "markdown",
   "metadata": {
    "colab_type": "text",
    "id": "jhZ8x08C4Nsu"
   },
   "source": [
    "##Example 3-9 ,Page No.135"
   ]
  },
  {
   "cell_type": "code",
   "execution_count": null,
   "metadata": {
    "colab": {},
    "colab_type": "code",
    "id": "OcOnrHr04Nsx",
    "outputId": "e20222fc-a3ce-4d61-fa3e-96d1f3e27709"
   },
   "outputs": [
    {
     "name": "stdout",
     "output_type": "stream",
     "text": [
      "Part a\n",
      "temperature 120.210000 Celcius \n",
      "internal energy 1719.260000 kJ/kg\n",
      "saturated liquid–vapor mixture at a pressure of 200 kPa\n",
      "Part b\n",
      "Pressure 232.230000 kPa\n",
      "x is 0.535000\n",
      "saturated liquid–vapor mixture at a temp of 125 of celcius\n",
      "Part c\n",
      "temperature 395.200000 Celcius\n",
      "superheated vapor at 1MPa\n",
      "Part d\n",
      "Internal energy 313.990000 kJ/kg\n",
      "the compressed liquid condition\n",
      "Part e\n",
      "temperature 172.940000 Celcius\n",
      "Internal energy 731.000000 kJ/kg\n",
      "saturateed liquid condition\n"
     ]
    }
   ],
   "source": [
    "#part a\n",
    "print('Part a');\n",
    "\n",
    "#given values\n",
    "P=200;#in KPa\n",
    "x=0.6;\n",
    "\n",
    "#from Table A-5\n",
    "T=120.21;\n",
    "uf=504.50;\n",
    "ufg=2024.6;\n",
    "\n",
    "#calcualtions\n",
    "u=uf+(x*ufg);\n",
    "print'temperature %f Celcius '%round(T,2);\n",
    "print'internal energy %f kJ/kg'%round(u,2);\n",
    "print('saturated liquid–vapor mixture at a pressure of 200 kPa');\n",
    "\n",
    "#part b\n",
    "print('Part b');\n",
    "\n",
    "#given values\n",
    "T=125;#in C\n",
    "u=1600;#in kJ/kg\n",
    "\n",
    "#from Table A–4\n",
    "uf=524.83;\n",
    "ug=2534.3;\n",
    "#ug>u>ufg so its aturated liquid–vapor mixture\n",
    "P=232.23;\n",
    "\n",
    "#calculation\n",
    "ufg=ug-uf;\n",
    "x=(u-uf)/ufg;\n",
    "print'Pressure %f kPa'%round(P,2);\n",
    "print'x is %f'%round(x,3);\n",
    "print('saturated liquid–vapor mixture at a temp of 125 of celcius');\n",
    "\n",
    "#part c\n",
    "print('Part c');\n",
    "\n",
    "#given values\n",
    "P=1000;#in kPa\n",
    "u=2950;#in kJ/kg\n",
    "\n",
    "#from Table A–6\n",
    "uf=761.39;\n",
    "ug=2582.8;\n",
    "#u>ug so its superheated steam\n",
    "T=395.2;\n",
    "\n",
    "#calculation\n",
    "print'temperature %f Celcius'%round(T,1);\n",
    "print('superheated vapor at 1MPa');\n",
    "\n",
    "#part d\n",
    "print('Part d');\n",
    "\n",
    "#given values\n",
    "T=75;#in C\n",
    "P=100;#in kPa\n",
    "\n",
    "#from Table A–5\n",
    "Tsat=151.83;\n",
    "#T<Tsat so it is a compressed liquid\n",
    "#the given pressure is much lower than the lowest pressure value in the compressed liquid table i.e 5 MPa\n",
    "#assuming, the compressed liquid as saturated liquid at the given temperature\n",
    "\n",
    "#from Table A-4\n",
    "u=313.99;\n",
    "print'Internal energy %f kJ/kg'%round(u,2);\n",
    "print('the compressed liquid condition');\n",
    "\n",
    "#Part e\n",
    "print('Part e');\n",
    "\n",
    "#given values\n",
    "P=850;#in kPa\n",
    "x=0;\n",
    "\n",
    "#x=0 therefore it is a saturateed liquid condition\n",
    "#from Table A-5\n",
    "T=172.94;\n",
    "u=731.00;\n",
    "print'temperature %f Celcius'%round(T,2);\n",
    "print'Internal energy %f kJ/kg'%round(u,2);\n",
    "print('saturateed liquid condition')\n"
   ]
  },
  {
   "cell_type": "markdown",
   "metadata": {
    "colab_type": "text",
    "id": "8UcKwX-04Ns5"
   },
   "source": [
    "##Example 3-10 ,Page No.139"
   ]
  },
  {
   "cell_type": "code",
   "execution_count": null,
   "metadata": {
    "colab": {},
    "colab_type": "code",
    "id": "1Yr9JPj74Ns7",
    "outputId": "249e1848-1cd5-4a8f-d4f3-7746f27b268d"
   },
   "outputs": [
    {
     "name": "stdout",
     "output_type": "stream",
     "text": [
      "the mass of the air 140.300000 kg\n"
     ]
    }
   ],
   "source": [
    "#constants used\n",
    "R=0.287# in kPa m^3/kg K\n",
    "\n",
    "#given values\n",
    "l=4;#dimensions of room in m\n",
    "b=5;#dimensions of room in m\n",
    "h=6;#dimensions of room in m\n",
    "P=100.0;#pressure in kPa\n",
    "T=25+273.0;#temperature in Kelvin\n",
    "\n",
    "#calculation\n",
    "V=l*b*h;\n",
    "m=P*V/R/T;\n",
    "print'the mass of the air %f kg'%round(m,1)\n"
   ]
  },
  {
   "cell_type": "markdown",
   "metadata": {
    "colab_type": "text",
    "id": "ti4NKHj34NtG"
   },
   "source": [
    "##Example 3-11 ,Page No.142"
   ]
  },
  {
   "cell_type": "code",
   "execution_count": null,
   "metadata": {
    "colab": {},
    "colab_type": "code",
    "id": "B3kp_5Iu4NtI",
    "outputId": "f35f4bc8-8e10-437a-d972-1b0bbc836962"
   },
   "outputs": [
    {
     "name": "stdout",
     "output_type": "stream",
     "text": [
      "specific volume of refrigerant-134a under the ideal-gas assumption 0.026325m^3/kg\n",
      "an error of 0.208000\n",
      "specific volume of refrigerant-134a under the generalized compressibility chart 0.022113 m^3/kg\n",
      "an error of 0.015000\n"
     ]
    }
   ],
   "source": [
    "#given values\n",
    "P=1;#pressure in MPa\n",
    "T=50+273;#tempearture converting into Kelvin\n",
    "vgiv=0.021796;#specific vol. given in m^3\n",
    "\n",
    "#from Table A-1\n",
    "R=0.0815;\n",
    "Pcr=4.059;\n",
    "Tcr=374.2;\n",
    "\n",
    "#calculation\n",
    "\n",
    "#Part A\n",
    "v1=R*T/(P*1000);\n",
    "print'specific volume of refrigerant-134a under the ideal-gas assumption %fm^3/kg'%round(v1,6);\n",
    "e=(v1-vgiv)/vgiv;\n",
    "print'an error of %f'%round(e,3);\n",
    "\n",
    "#Part B\n",
    "#determine Z from the compressibility chart, we will calculate the reduced pressure and temperature\n",
    "Pr=P/Pcr;\n",
    "Tr=T/Tcr;\n",
    "#from chart\n",
    "Z=0.84;\n",
    "v=Z*v1;\n",
    "print'specific volume of refrigerant-134a under the generalized compressibility chart %f m^3/kg'%round(v,6);\n",
    "e=(v-vgiv)/vgiv;\n",
    "print'an error of %f'%round(e,3);\n"
   ]
  },
  {
   "cell_type": "markdown",
   "metadata": {
    "colab_type": "text",
    "id": "9I9jbLmL4NtP"
   },
   "source": [
    "##Example 3-12 ,Page No.143"
   ]
  },
  {
   "cell_type": "code",
   "execution_count": null,
   "metadata": {
    "colab": {},
    "colab_type": "code",
    "id": "iAe3YVzw4NtS",
    "outputId": "07012787-df8d-45ec-8d2e-1b28677e703a"
   },
   "outputs": [
    {
     "name": "stdout",
     "output_type": "stream",
     "text": [
      "from the steam tables 1000 psia\n",
      "from the ideal-gas equation 1228 psia\n",
      "treating the steam as an ideal gas would result in an error of 0.228000\n",
      "from the generalized compressibility chart 1056 psia\n"
     ]
    }
   ],
   "source": [
    "#given values\n",
    "v=0.51431;\n",
    "T=600;\n",
    "\n",
    "#from Table A-1E\n",
    "R=0.5956;\n",
    "Pcr=3200;\n",
    "Tcr=1164.8;\n",
    "\n",
    "#calculation\n",
    "\n",
    "#Part A\n",
    "#from Table A-6E\n",
    "Pa=1000.0;#in psia\n",
    "print'from the steam tables %i psia'%Pa;\n",
    "\n",
    "#Part B\n",
    "T=1060;#converted into R from F\n",
    "Pb=R*T/v;\n",
    "print'from the ideal-gas equation %i psia'%round(Pb,0);\n",
    "e=(Pb-Pa)/Pa;\n",
    "print'treating the steam as an ideal gas would result in an error of %f'%round(e,3)\n",
    "\n",
    "#Part C\n",
    "#calculating the pseudo-reduced specific volume and the reduced temperature\n",
    "Vr=v/(R*Tcr/Pcr);\n",
    "Tr=T/Tcr;\n",
    "#from the compressibility chart\n",
    "Pr=0.33;\n",
    "P=Pr*Pcr;\n",
    "print'from the generalized compressibility chart %i psia'%P\n"
   ]
  },
  {
   "cell_type": "markdown",
   "metadata": {
    "colab_type": "text",
    "id": "ybEeiaV34Ntb"
   },
   "source": [
    "##Example 3-13 ,Page No.147"
   ]
  },
  {
   "cell_type": "code",
   "execution_count": null,
   "metadata": {
    "colab": {},
    "colab_type": "code",
    "id": "U3GU3T-Y4Ntc",
    "outputId": "1cfbe55e-ba10-4013-f16c-bcd2daba2bc7"
   },
   "outputs": [
    {
     "name": "stdout",
     "output_type": "stream",
     "text": [
      "using the ideal-gas equation of state 13851 kPa\n",
      "error is 38.506667 percent\n",
      "using the van der Waals equation of state  is 9471 kPa\n",
      "error is -5.288326 percent\n",
      "using the Beattie-Bridgeman equationis 10109 kPa\n",
      "error is 1.092970 percent\n",
      "using Benedict-Webb-Rubin equation 10004 kPa\n",
      "error is 0.039256 percent\n"
     ]
    }
   ],
   "source": [
    "#Answer of part c-d are having slight difference due to approximation in molar volumne in the textbook which here is caluculated to the approximation of 7 decimal digits\n",
    "\n",
    "from math import exp\n",
    "\n",
    "#given values\n",
    "T=175.0;#temperature in C\n",
    "v=0.00375;#sp. volumne in m^3/kg\n",
    "Pex=10000;#experimentaion determination\n",
    "\n",
    "#from Table A-1\n",
    "R=0.2968# in kPa m^3/kg  K\n",
    "\n",
    "#calculating\n",
    "\n",
    "#Part-a\n",
    "P=R*T/v;\n",
    "print'using the ideal-gas equation of state %i kPa'%(round(P))\n",
    "e=(P-Pex)/Pex*100;\n",
    "print'error is %f percent'%e;\n",
    "\n",
    "#Part-b\n",
    "#van der Waals constants from Eq. 3-23\n",
    "a=0.175;\n",
    "b=0.00138;\n",
    "#from van der waal eq.\n",
    "P=R*T/(v-b)-a/v**2;\n",
    "print'using the van der Waals equation of state  is %i kPa'%(round(P));\n",
    "e=(P-Pex)/Pex*100;\n",
    "print'error is %f percent'%e;\n",
    "\n",
    "#Part-c\n",
    "#constants in the Beattie-Bridgeman equation from Table 3–4\n",
    "A=102.29;\n",
    "B=0.05378;\n",
    "c=4.2*10**4;\n",
    "Ru=8.314;#in kPa m^3/kmol K\n",
    "M=28.013;#molecular weight in kg/mol\n",
    "vb=M*v;#molar vol.\n",
    "P=(Ru*T)/(vb**2)*(1-((c)/(vb*T**3)))*(vb+B)-(A/vb**2);\n",
    "print'using the Beattie-Bridgeman equationis %i kPa'%(round(P));\n",
    "e=(P-Pex)/Pex*100;\n",
    "print'error is %f percent'%e;\n",
    "\n",
    "#Part-d\n",
    "#constants of Benedict-Webb-Rubin equation from Table 3–4\n",
    "a=2.54;\n",
    "b=0.002328;\n",
    "c=7.379*10**4;\n",
    "alp=1.272*10**-4;\n",
    "Ao=106.73;\n",
    "Bo=0.040704;\n",
    "Co=8.164*10**5;\n",
    "gam=0.0053;\n",
    "P=((Ru*T)/vb)+((Bo*Ru*T)-Ao-Co/T**2)/vb**2+(b*Ru*T-a)/vb**3+(a*alp/vb**6)+(c/((vb**3)*(T**2)))*(1 + (gam/vb**2))*exp(-gam/vb**2);\n",
    "print'using Benedict-Webb-Rubin equation %i kPa'%(round(P));\n",
    "e=(P-Pex)/Pex*100;\n",
    "print'error is %f percent'%e;\n"
   ]
  },
  {
   "cell_type": "markdown",
   "metadata": {
    "colab_type": "text",
    "id": "NRhoNjIb4Ntk"
   },
   "source": [
    "##Example 3-14 ,Page No.152"
   ]
  },
  {
   "cell_type": "code",
   "execution_count": null,
   "metadata": {
    "colab": {},
    "colab_type": "code",
    "id": "GwA8vd-S4Ntl",
    "outputId": "4334a3e0-4ea2-485b-bf24-e97866901a98"
   },
   "outputs": [
    {
     "name": "stdout",
     "output_type": "stream",
     "text": [
      "with relative humidity 10, temperature is -8 in C\n",
      "with relative humidity 80, temperature is 21 in C\n",
      "with relative humidity 100, temperature is 25 in C\n"
     ]
    }
   ],
   "source": [
    "#given value\n",
    "T=25;#air temperature over a lake in C\n",
    "\n",
    "#from table 3-1\n",
    "Psat=3.17;#in kPa\n",
    "\n",
    "#calculations\n",
    "\n",
    "#Relative Humidity 10%\n",
    "Pv1=0.1*Psat\n",
    "#Relative Humidity 80%\n",
    "Pv2=0.8*Psat\n",
    "#Relative Humidity 100%\n",
    "Pv3=1*Psat\n",
    "\n",
    "# from table 3-1 Tsat at these Pressures are\n",
    "T1=-8.0;\n",
    "T2=21.2;\n",
    "T3=25.0;\n",
    "print'with relative humidity 10, temperature is %i in C'%T1\n",
    "print'with relative humidity 80, temperature is %i in C'%T2\n",
    "print'with relative humidity 100, temperature is %i in C'%T3\n"
   ]
  }
 ],
 "metadata": {
  "colab": {
   "collapsed_sections": [],
   "name": "Chapter3_1.ipynb",
   "provenance": []
  },
  "kernelspec": {
   "display_name": "Python 3",
   "language": "python",
   "name": "python3"
  },
  "language_info": {
   "codemirror_mode": {
    "name": "ipython",
    "version": 3
   },
   "file_extension": ".py",
   "mimetype": "text/x-python",
   "name": "python",
   "nbconvert_exporter": "python",
   "pygments_lexer": "ipython3",
   "version": "3.9.1"
  }
 },
 "nbformat": 4,
 "nbformat_minor": 4
}
