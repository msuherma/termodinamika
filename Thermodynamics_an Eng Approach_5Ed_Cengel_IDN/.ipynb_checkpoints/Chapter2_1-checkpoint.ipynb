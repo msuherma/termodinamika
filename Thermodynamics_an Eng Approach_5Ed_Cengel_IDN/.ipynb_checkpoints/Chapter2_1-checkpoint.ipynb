{
 "cells": [
  {
   "cell_type": "markdown",
   "metadata": {
    "id": "aq3X7zcFnjm2"
   },
   "source": [
    "#Chapter 2: Energy Conversion and General Energy Analysis"
   ]
  },
  {
   "cell_type": "markdown",
   "metadata": {
    "id": "YbxmgA86njm5"
   },
   "source": [
    "##  Example 2-1 ,Page No.57\n",
    "\n",
    "# __2-1  Mobil bertenaga nuklir__\n",
    "\n",
    "Biasanya mobil mengkonsumsi 5 liter bensin per hari, dan kapasitas tangki bahan bakar  sekitar 50 liter. Dengan demikian mobil rerata memerlukan isi ulang setiap 10 hari sekali.  Densitas dari bensin berkisar antara 0,68 hingga 0,78 kg/L, dan *lower heating value* (LHV) bensin tersebut adalah 44.000 kJ/kg  ( maknanya  adalah 44000 kJ kalor yang dikeluarkan  dari 1 kg bensin jika terbakar secara penuh/komplit). seandainya permasalahan  nuklir yang berkaitan dengan radioaktif dan  pengelolaan limbahnya sudah teratasi, maka mobil dapat digerakan oleh tenaga nuklir  U-235. bila mobil jenis tersebut dibekali dengan 0,1 kg bahan bakar nuklir U-235 Tentukan kapan saat mobil memerlukan isi ulang kembali bila dikendarai dengan pengendaraan rerata."
   ]
  },
  {
   "cell_type": "code",
   "execution_count": null,
   "metadata": {
    "colab": {
     "base_uri": "https://localhost:8080/",
     "height": 52
    },
    "executionInfo": {
     "elapsed": 621,
     "status": "ok",
     "timestamp": 1599282910948,
     "user": {
      "displayName": "Mukhamad Suhermanto, S.Pd, M.Eng",
      "photoUrl": "",
      "userId": "00966700570926337399"
     },
     "user_tz": 240
    },
    "id": "mfkxeRIInjm6",
    "outputId": "9fb98682-26e0-403e-a9d1-0a1afccb88db"
   },
   "outputs": [
    {
     "name": "stdout",
     "output_type": "stream",
     "text": [
      "Dengan U-235, mobil dapat dikendarai sepanjang 40788.000000 hari\n",
      "Sama dengan 112.000000 tahun\n"
     ]
    }
   ],
   "source": [
    "# Diketahui:\n",
    "rho_b=0.75;# ambil rerata densitas bensin, 0,75 kg/L\n",
    "V_b=5;# konsumsi BB mobil per hari, 5 L\n",
    "Hv_b=44000; #heat value, kJ/kg\n",
    "m_u235=0.1;# massa U-235 yang dipakai\n",
    "\n",
    "#Konstanta:\n",
    "H_u235=6.73*10**10;#Energi yang dihasilkan dari U-235\n",
    "\n",
    "#Dicari: hari dan tahun isi ulang bensin jika memakai U-235\n",
    "m_b=rho_b*V_b;#massa bensin terpakai perhari\n",
    "E_b=m_b*Hv_b; #Energi yang dihasilkan dari BB bensin perhari\n",
    "E_u235=m_u235*H_u235;\n",
    "hari=E_u235/E_b;\n",
    "print('Dengan U-235, mobil dapat dikendarai sepanjang %f hari' %round(hari,0))\n",
    "print('Sama dengan %f tahun' %round(hari/365,0))\n"
   ]
  },
  {
   "cell_type": "markdown",
   "metadata": {
    "id": "Mthz61xdnjnF"
   },
   "source": [
    "## Example 2-2 ,Page No.59"
   ]
  },
  {
   "cell_type": "markdown",
   "metadata": {
    "id": "eLGZ4QW_gevU"
   },
   "source": [
    "# PLTB\n",
    "Pada sebuah pembangkit listrik tenaga Bayu (PLTB) telah diketahui bahwasanya angin berhembus secara *steady* dengan kecepatan 8,5 m/s. Tentukan energi angin (a) persatuan masa,  (b)  jika massa 10 kg, dan (c)  jika  aliran udaranya per satuan waktu(flow  rate)  sebesar 1154 kg/s."
   ]
  },
  {
   "cell_type": "code",
   "execution_count": null,
   "metadata": {
    "colab": {
     "base_uri": "https://localhost:8080/",
     "height": 68
    },
    "executionInfo": {
     "elapsed": 345,
     "status": "ok",
     "timestamp": 1599282131574,
     "user": {
      "displayName": "Mukhamad Suhermanto, S.Pd, M.Eng",
      "photoUrl": "",
      "userId": "00966700570926337399"
     },
     "user_tz": 240
    },
    "id": "_0BbsWchnjnG",
    "outputId": "8ce94ba9-75fd-4c77-83f2-e3bf033dd2cb"
   },
   "outputs": [
    {
     "name": "stdout",
     "output_type": "stream",
     "text": [
      "Energi angin persatuan massa 36.100000 J/kg\n",
      "wind energy for 10 kg mass 361 J\n",
      "wind energy for mass flow rate of 1154kg/s 41.700000 kW\n"
     ]
    }
   ],
   "source": [
    "# Diketahui:\n",
    "v=8.5;# kecepatan angin, m/s\n",
    "m=10;# massa, kg\n",
    "m_dot=1154;# massa persatuan waktu (flow rate), kg/s\n",
    "\n",
    "#Dicari: (a) Energi angin persatuan massa, e [J/kg]\n",
    "        #(b) Energi angin untuk massa udara sebesar 10 kg\n",
    "        #(c) Enegi angin jika mass flow rate sebesar 1154 kg/s \n",
    "#Jawab:\n",
    "e=(v**2)/2; #energi kinetik = v^2/2\n",
    "print('Energi angin persatuan massa %f J/kg' %round(e,1));\n",
    "\n",
    "E=m*e; #energi angin, E = massa * energi\n",
    "print('wind energy for 10 kg mass %i J' %E);\n",
    "\n",
    "E_dot=m_dot*e/1000; #energi angin dengan mass flow rate 1154 kg/s\n",
    "print('wind energy for mass flow rate of 1154kg/s %f kW'%round(E_dot,1))\n"
   ]
  },
  {
   "cell_type": "markdown",
   "metadata": {
    "id": "BBN-8MMxnjnM"
   },
   "source": [
    "##Example 2-7 ,Page No.67"
   ]
  },
  {
   "cell_type": "code",
   "execution_count": null,
   "metadata": {
    "id": "XTCj8L8dnjnN",
    "outputId": "105e88f0-34d0-4b4f-ca6d-95c28f8f8886"
   },
   "outputs": [
    {
     "name": "stdout",
     "output_type": "stream",
     "text": [
      "Power transmitted 83.800000 kW\n"
     ]
    }
   ],
   "source": [
    "import math\n",
    "\n",
    "# Given values\n",
    "T=200;# applied torque in N\n",
    "n=4000;# shaft rotation rate in revolutions per minute\n",
    "\n",
    "#Calculation\n",
    "Wsh=(2*math.pi*n*T)/1000/60;#factor of 1000 to convert to kW and 60 to convert to sec\n",
    "print'Power transmitted %f kW'%round(Wsh,1)"
   ]
  },
  {
   "cell_type": "markdown",
   "metadata": {
    "id": "NYCj7ICLnjnS"
   },
   "source": [
    "## Example 2-8 ,Page No.69"
   ]
  },
  {
   "cell_type": "markdown",
   "metadata": {
    "id": "RFfI1u0ZuElX"
   },
   "source": [
    "# **2-8  Daya yang diperlukan sebuah mobil untuk menaiki  bukit**\n",
    "Terdapat sebuah mobil dengan massa 1200 kg yang berjalan di jalan yang rata dengan kecepatan 90 km/jam.  Kemudian mobil memulai untuk mendaki sebuah bukit dengan ketinggian 30 derajat dari garis horizontal. bila kecepatan mobil dibiarkan tetap selama proses menaiki  Bukit tersebut, Tentukan tenaga tambahan yang diperlukan dari mesinnya.\n"
   ]
  },
  {
   "cell_type": "code",
   "execution_count": null,
   "metadata": {
    "colab": {
     "base_uri": "https://localhost:8080/",
     "height": 52
    },
    "executionInfo": {
     "elapsed": 435,
     "status": "ok",
     "timestamp": 1599285459648,
     "user": {
      "displayName": "Mukhamad Suhermanto, S.Pd, M.Eng",
      "photoUrl": "",
      "userId": "00966700570926337399"
     },
     "user_tz": 240
    },
    "id": "gh8RNPmUnjnT",
    "outputId": "a825ef53-23b8-4e6c-9ae1-61eaeffb2b9f"
   },
   "outputs": [
    {
     "name": "stdout",
     "output_type": "stream",
     "text": [
      "Daya yang dibutuhkan adalah 147 kW\n",
      "Dinyatakan dalam HP, daya yang diperlukan adalah 197.331093 kW\n"
     ]
    }
   ],
   "source": [
    "import math\n",
    "\n",
    "#Konstanta\n",
    "g=9.81;#gravitasi bumi, m/s^2;\n",
    "\n",
    "#Diketahui:\n",
    "m_mobil=1200;#massa mobil, kg\n",
    "V=90/3.6;#kecepatan, konversi km/h into m/s\n",
    "#Konversi:\n",
    "d=30*math.pi/180;#sudut kemiringan; konversi ke radians\n",
    "kW_HP = 1.34102 # 1 kW = 1.34102 HP\n",
    "\n",
    "#Jawab:\n",
    "V_ver=V*math.sin(d);#velocity in vertical direction\n",
    "W_g_dot=m_mobil*g*V_ver/1000;#daya yang dibutuhkan\n",
    "W_g_dot_HP= W_g_dot*kW_HP\n",
    "print('Daya yang dibutuhkan adalah %i kW'%W_g_dot)\n",
    "print('Dinyatakan dalam HP, daya yang diperlukan adalah %f kW' %W_g_dot_HP)"
   ]
  },
  {
   "cell_type": "markdown",
   "metadata": {
    "id": "dLujjdFVnjnZ"
   },
   "source": [
    "##Example 2-9 ,Page No.69"
   ]
  },
  {
   "cell_type": "markdown",
   "metadata": {
    "id": "luX1eeTA2Ze9"
   },
   "source": [
    "# **2-9   Tenaga yang diperlukan sebuah mobil untuk melakukan akselerasi**\n",
    "\n",
    "Tentukan tenaga yang diperlukan untuk  mobil dengan massa 900 kg  guna  melakukan akselerasi  dari keadaan berhenti  menjadi berkecepatan 80 km/jam dalam waktu 20 detik di kondisi jalan yang rata.\n"
   ]
  },
  {
   "cell_type": "code",
   "execution_count": null,
   "metadata": {
    "colab": {
     "base_uri": "https://localhost:8080/",
     "height": 51
    },
    "executionInfo": {
     "elapsed": 344,
     "status": "ok",
     "timestamp": 1599285292731,
     "user": {
      "displayName": "Mukhamad Suhermanto, S.Pd, M.Eng",
      "photoUrl": "",
      "userId": "00966700570926337399"
     },
     "user_tz": 240
    },
    "id": "DCMZKNzwnjnb",
    "outputId": "58ec6e5a-8ea4-410c-8b41-a78c365c8052"
   },
   "outputs": [
    {
     "name": "stdout",
     "output_type": "stream",
     "text": [
      "Daya rerata yang diperlukan sebesar 11.100000 kW\n",
      "Dinyatakan dalam HP, daya rerata tersebut adalah 14.900222 kW\n"
     ]
    }
   ],
   "source": [
    "#Diketahui:\n",
    "m=900;#massa mobil, kg\n",
    "v_1=0;# kecepatan awal\n",
    "v_2=80/3.6;# kecepatan akhir; konversi km/h ke m/s\n",
    "t=20;# waktu yang diperlukan, detik, s\n",
    "\n",
    "#Konversi:\n",
    "kW_HP = 1.34102 # 1 kW = 1.34102 HP\n",
    "\n",
    "#Dicari: Daya yang diperlukan untuk akselerasi\n",
    "W_a=m*(v_2**2-v_1**2)/2/1000;\n",
    "W_a_dot=W_a/t;\n",
    "W_a_dot_HP = W_a_dot*kW_HP\n",
    "print('Daya rerata yang diperlukan sebesar %f kW'%round(W_a_dot,1))\n",
    "print('Dinyatakan dalam HP, daya rerata tersebut adalah %f kW' %W_a_dot_HP)"
   ]
  },
  {
   "cell_type": "markdown",
   "metadata": {
    "id": "NuuoR5ZXnjnk"
   },
   "source": [
    "##Example 2-10 ,Page No.74"
   ]
  },
  {
   "cell_type": "markdown",
   "metadata": {
    "id": "orKL6E_x2xXJ"
   },
   "source": [
    "# **2-10 Mendinginkan fluida panas di dalam sebuah tangki**\n",
    "\n",
    "Sebuah tangki rigid berisi fluida panas yang kemudian didinginkan dengan cara diaduk menggunakan baling-baling titik pada awalnya internal Energy dari fluida tersebut adalah 800 KJ. dalam proses pendinginan, fluida Mengalami penurunan 500 KJ kalor, dan baling-baling melakukan 100 kJ  kerja terhadap ruida tersebut. Tentukan energi internal akhir dari fluida itu. energi yang tersimpan dalam baling-baling diabaikan.\n"
   ]
  },
  {
   "cell_type": "code",
   "execution_count": null,
   "metadata": {
    "colab": {
     "base_uri": "https://localhost:8080/",
     "height": 34
    },
    "executionInfo": {
     "elapsed": 330,
     "status": "ok",
     "timestamp": 1599285913832,
     "user": {
      "displayName": "Mukhamad Suhermanto, S.Pd, M.Eng",
      "photoUrl": "",
      "userId": "00966700570926337399"
     },
     "user_tz": 240
    },
    "id": "w2FTAeQSnjnl",
    "outputId": "10ea3422-05ec-409f-be52-a6231d30d75d"
   },
   "outputs": [
    {
     "name": "stdout",
     "output_type": "stream",
     "text": [
      "Energi Internal akhir sebesar 400 kJ\n"
     ]
    }
   ],
   "source": [
    "#Diketahui\n",
    "W_in=100;# kerja yang diberikan, kJ\n",
    "Q_out=500;# kalor yang hilang, kJ\n",
    "U_i=800;# energi internal fluida, kJ\n",
    "\n",
    "#Dicari: energi internal akhir (U_f)\n",
    "# W_in - Q_out = U_f - U_i i.e change in internal energy \n",
    "U_f = U_i - Q_out + W_in;\n",
    "print('Energi Internal akhir sebesar %i kJ'%U_f)\n"
   ]
  },
  {
   "cell_type": "markdown",
   "metadata": {
    "id": "g8eGxxy_njnq"
   },
   "source": [
    "##Example 2-11 ,Page No.75"
   ]
  },
  {
   "cell_type": "code",
   "execution_count": null,
   "metadata": {
    "id": "Celshk-Anjnr",
    "outputId": "52143152-c5ad-4a94-93f4-4a79d336f117"
   },
   "outputs": [
    {
     "name": "stdout",
     "output_type": "stream",
     "text": [
      "False\n"
     ]
    }
   ],
   "source": [
    "import math\n",
    "\n",
    "#given values\n",
    "Win=20;# power consumption in W\n",
    "mair=0.25;# rate of air discharge in kg/sec\n",
    "\n",
    "#calculation\n",
    "v=math.sqrt(Win/2/mair)#Win = 1/2*m*v^2\n",
    "if v >=8:\n",
    "    print('True');\n",
    "else:\n",
    "    print('False')\n"
   ]
  },
  {
   "cell_type": "markdown",
   "metadata": {
    "id": "QRQQQo_Qnjnw"
   },
   "source": [
    "## Example 2-12 ,Page No.76"
   ]
  },
  {
   "cell_type": "code",
   "execution_count": null,
   "metadata": {
    "id": "wKyPWb7pnjnw",
    "outputId": "a6bd88ff-1890-4221-87ab-f02f383cadb7"
   },
   "outputs": [
    {
     "name": "stdout",
     "output_type": "stream",
     "text": [
      "the indoor air temperature 26.111111 Celcius\n"
     ]
    }
   ],
   "source": [
    "#Given values\n",
    "Win=200.0;#Power of fan in W\n",
    "U=6.0;#Overall heat transfer coefficient in W/m^2 C\n",
    "A=30;#Surface area in m^2\n",
    "To=25;#Outdoor temperature in C\n",
    "\n",
    "#Calculations\n",
    "Ti= (Win/U/A)+To;# Win = Qout = U*A*(Ti - To)\n",
    "print'the indoor air temperature %f Celcius'%Ti\n"
   ]
  },
  {
   "cell_type": "markdown",
   "metadata": {
    "id": "asiNO1cInjn0"
   },
   "source": [
    "##Example 2-13 ,Page No.76"
   ]
  },
  {
   "cell_type": "code",
   "execution_count": null,
   "metadata": {
    "id": "ilfcljA_njn1",
    "outputId": "52bb8cbb-ad58-49e9-ecf8-80b0301debe1"
   },
   "outputs": [
    {
     "name": "stdout",
     "output_type": "stream",
     "text": [
      "the annual energy cost $504\n"
     ]
    }
   ],
   "source": [
    "#Given values\n",
    "Plamp=80.0;#Power of lamp in W\n",
    "N=30;#no of lamps\n",
    "t=12;#time period the light is in use in hours/day\n",
    "y=250;#days in a year light is in function \n",
    "UC=0.07;#unit cost in $\n",
    "\n",
    "#Calculation\n",
    "LP=Plamp*N/1000;#Lighting power in kW\n",
    "OpHrs=t*y;#Operating hours\n",
    "LE=LP*OpHrs;#Lighting energy in kW\n",
    "LC=LE*UC;#Lighting cost\n",
    "print'the annual energy cost $%i'%LC\n"
   ]
  },
  {
   "cell_type": "markdown",
   "metadata": {
    "id": "BHjvBjrInjn5"
   },
   "source": [
    "##Example 2-15 ,Page No.82"
   ]
  },
  {
   "cell_type": "code",
   "execution_count": null,
   "metadata": {
    "id": "YTCw2RYjnjn6",
    "outputId": "4d2fb34b-d8d8-4aca-8356-057685e10b4c"
   },
   "outputs": [
    {
     "name": "stdout",
     "output_type": "stream",
     "text": [
      "rate of energy consumption by the heater 1.460000 kW\n",
      "the unit cost of utilized energy for heater $0.123000/kWh\n",
      "rate of energy consumption by the burner 3.840000 kW\n",
      "the unit cost of utilized energy for burner 0.049000 kWh\n"
     ]
    }
   ],
   "source": [
    "#Given values\n",
    "Ein=2.0;#Power of electric burner in kW\n",
    "n1=0.73;#Efficiency of open burners\n",
    "n2=0.38;#efficency of gas units\n",
    "CinH=0.09;#Unit cost of electricity in $\n",
    "CinB=0.55;#Unit cost of natural gas in $\n",
    "\n",
    "#Calculations\n",
    "QutH= Ein * n1;\n",
    "print'rate of energy consumption by the heater %f kW'%round(QutH,2);\n",
    "CutH= CinH / n1;\n",
    "print'the unit cost of utilized energy for heater $%f/kWh'%round(CutH,3);\n",
    "QutB= QutH / n2 ;\n",
    "print'rate of energy consumption by the burner %f kW'%round(QutB,2);\n",
    "CutB= CinB / n2 / 29.3; # 1 therm = 29.3 kWh\n",
    "print'the unit cost of utilized energy for burner %f kWh'%round(CutB,3);\n"
   ]
  },
  {
   "cell_type": "markdown",
   "metadata": {
    "id": "3OcSvyUjnjn_"
   },
   "source": [
    "##Example 2-16 ,Page No.84"
   ]
  },
  {
   "cell_type": "code",
   "execution_count": null,
   "metadata": {
    "id": "vOW68QZRnjoA",
    "outputId": "86815c28-4326-4860-8661-b7d1d950356d"
   },
   "outputs": [
    {
     "name": "stdout",
     "output_type": "stream",
     "text": [
      "overall efficiency is 0.760000\n",
      "efficiency of turbine is 0.800000\n",
      "shaft power output 1960 kW\n"
     ]
    }
   ],
   "source": [
    "#there is a 0.204% error in the last part of the question due to rounding off the intermidiate steps in the solution\n",
    "\n",
    "#Constants used\n",
    "g=9.81;#acceleration due to gravity in m/s^2;\n",
    "\n",
    "#Given values\n",
    "h=50.0;#Depth of water in m\n",
    "m=5000.0;#mass flow rate of water in kg/sec\n",
    "Wout=1862.0;#generated electric power in kW\n",
    "ngen=0.95;#efficiency of turbine\n",
    "\n",
    "#calculation\n",
    "X=g*h/1000.0;# X stands for the differnce b/w change in mechanical energy per unit mass\n",
    "R=m*X;#rate at which mech. energy is supplied to turbine in kW\n",
    "nov=Wout/R;#overall efficiency i.e turbine and generator\n",
    "print'overall efficiency is %f'%round(nov,2);\n",
    "ntu=nov/ngen;#efficiency of turbine\n",
    "print'efficiency of turbine is %f'%round(ntu,2);\n",
    "Wsh=ntu*R;#shaft output work\n",
    "print'shaft power output %i kW'%round(Wsh,0)\n",
    "\n"
   ]
  },
  {
   "cell_type": "markdown",
   "metadata": {
    "id": "DGWQrPn3njoF"
   },
   "source": [
    "##Example 2-17 ,Page No.85"
   ]
  },
  {
   "cell_type": "code",
   "execution_count": null,
   "metadata": {
    "id": "87J6SNjpnjoF",
    "outputId": "481ee5e7-c2cf-436a-d8c3-7d6038b41979"
   },
   "outputs": [
    {
     "name": "stdout",
     "output_type": "stream",
     "text": [
      "Energy savings 7929 kWh/year\n",
      "Cost savings per year $634\n",
      "simple payback period 1.000000 years\n"
     ]
    }
   ],
   "source": [
    "#Given values\n",
    "Pstd=4520.0;\n",
    "Phem=5160.0;#prices of std and high eff motor in USD\n",
    "R=60*0.7457;#rated power in kW from hp\n",
    "OpHrs=3500.0;#Operating hours\n",
    "Lf=1.0;#Load Factor\n",
    "nsh=0.89;#efficiency of shaft\n",
    "nhem=0.932;#efficiency of high eff. motor\n",
    "CU=0.08;#per unit cost in $\n",
    "\n",
    "#calculation\n",
    "PS=R*Lf*(1/nsh-1/nhem);#Power savings = W electric in,standard -   W electric in,efficient\n",
    "ES=PS*OpHrs;#Energy savings = Power savings * Operating hours\n",
    "print'Energy savings %i kWh/year'%ES;\n",
    "CS=ES*CU;\n",
    "print'Cost savings per year $%i'%CS;\n",
    "EIC=Phem-Pstd;#excess intial cost\n",
    "Y=EIC/CS;\n",
    "print'simple payback period %f years'%round(Y,1)"
   ]
  },
  {
   "cell_type": "markdown",
   "metadata": {
    "id": "auh8x3X-njoJ"
   },
   "source": [
    "##Example 2-18 ,Page No.91"
   ]
  },
  {
   "cell_type": "code",
   "execution_count": null,
   "metadata": {
    "id": "hUPuadi9njoK",
    "outputId": "ee0fc1d7-427a-435d-db79-feb8c65ecc9b"
   },
   "outputs": [
    {
     "name": "stdout",
     "output_type": "stream",
     "text": [
      "NOx savings 84600.000000 kg/year\n",
      "CO2 savings 115200000.000000 kg/year\n"
     ]
    }
   ],
   "source": [
    "#Given values\n",
    "#NOx details\n",
    "m1=0.0047;#emissions of gas furnaces of NOx in kg/therm\n",
    "N1=18*10**6;#no. of therms per year \n",
    "#CO2 details\n",
    "m2=6.4;#emissions of gas furnaces of CO2 in kg/therm\n",
    "N2=18*10**6;#no. of therms per year \n",
    "\n",
    "#Calculation\n",
    "NOxSav=m1*N1;\n",
    "print'NOx savings %f kg/year'%round(NOxSav,1);\n",
    "CO2Sav=m2*N2;\n",
    "print'CO2 savings %f kg/year'%round(CO2Sav,1)\n"
   ]
  },
  {
   "cell_type": "markdown",
   "metadata": {
    "id": "M3NT6KiQnjoO"
   },
   "source": [
    "##Example 2-19 ,Page No.95"
   ]
  },
  {
   "cell_type": "code",
   "execution_count": null,
   "metadata": {
    "id": "dPq3F3lSnjoP",
    "outputId": "a8bf6af3-3225-40fe-fc82-d6f4975fa395"
   },
   "outputs": [
    {
     "name": "stdout",
     "output_type": "stream",
     "text": [
      "the total rate of heat transfer 168.100000 W\n"
     ]
    }
   ],
   "source": [
    "#Constants used\n",
    "e=0.95;#Emissivity\n",
    "tc=5.67*10**-8;#thermal conductivity in W/m^2 K^4\n",
    "\n",
    "#Given values\n",
    "h=6;#convection heat transfer coefficient in W/m^2 C\n",
    "A=1.6;#cross-sectional area in m^2\n",
    "Ts=29;#average surface temperature in C\n",
    "Tf=20;#room temperature in C\n",
    "\n",
    "#Calculation\n",
    "#convection rate\n",
    "Q1=h*A*(Ts-Tf);\n",
    "#radiation rate\n",
    "Q2=e*tc*A*((Ts+273)**4-(Tf+273)**4);\n",
    "Qt=Q1+Q2;\n",
    "print'the total rate of heat transfer %f W'%round(Qt,1)\n"
   ]
  }
 ],
 "metadata": {
  "colab": {
   "name": "Chapter2_1.ipynb",
   "provenance": []
  },
  "kernelspec": {
   "display_name": "Python 3",
   "language": "python",
   "name": "python3"
  },
  "language_info": {
   "codemirror_mode": {
    "name": "ipython",
    "version": 3
   },
   "file_extension": ".py",
   "mimetype": "text/x-python",
   "name": "python",
   "nbconvert_exporter": "python",
   "pygments_lexer": "ipython3",
   "version": "3.9.1"
  }
 },
 "nbformat": 4,
 "nbformat_minor": 4
}
