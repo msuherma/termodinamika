{
 "cells": [
  {
   "cell_type": "markdown",
   "id": "passing-capture",
   "metadata": {},
   "source": [
    "## Sample Props Code `PropsSI`"
   ]
  },
  {
   "cell_type": "code",
   "execution_count": 6,
   "id": "prescribed-craps",
   "metadata": {},
   "outputs": [],
   "source": [
    "from CoolProp.CoolProp import PropsSI"
   ]
  },
  {
   "cell_type": "code",
   "execution_count": 9,
   "id": "incorporated-cambridge",
   "metadata": {},
   "outputs": [
    {
     "data": {
      "text/plain": [
       "817.6273812375758"
      ]
     },
     "execution_count": 9,
     "metadata": {},
     "output_type": "execute_result"
    }
   ],
   "source": [
    "# Density of carbon dioxide at 100 bar and 25C\n",
    "PropsSI('D', 'T', 298.15, 'P', 100e5, 'CO2')"
   ]
  },
  {
   "cell_type": "code",
   "execution_count": 10,
   "id": "false-vault",
   "metadata": {},
   "outputs": [
    {
     "data": {
      "text/plain": [
       "412333.95323186804"
      ]
     },
     "execution_count": 10,
     "metadata": {},
     "output_type": "execute_result"
    }
   ],
   "source": [
    "# Saturated vapor enthalpy [J/kg] of R134a at 25C\n",
    "PropsSI('H', 'T', 298.15, 'Q', 1, 'R134a')"
   ]
  },
  {
   "cell_type": "code",
   "execution_count": null,
   "id": "charged-matthew",
   "metadata": {},
   "outputs": [],
   "source": []
  },
  {
   "cell_type": "code",
   "execution_count": null,
   "id": "manufactured-archive",
   "metadata": {},
   "outputs": [],
   "source": []
  },
  {
   "cell_type": "code",
   "execution_count": null,
   "id": "dietary-graph",
   "metadata": {},
   "outputs": [],
   "source": []
  },
  {
   "cell_type": "markdown",
   "id": "intensive-division",
   "metadata": {},
   "source": [
    "## `HAPropsSI` Code for Humid Air"
   ]
  },
  {
   "cell_type": "code",
   "execution_count": 11,
   "id": "processed-freeware",
   "metadata": {},
   "outputs": [],
   "source": [
    "from CoolProp.HumidAirProp import HAPropsSI"
   ]
  },
  {
   "cell_type": "code",
   "execution_count": 13,
   "id": "designed-history",
   "metadata": {},
   "outputs": [
    {
     "name": "stdout",
     "output_type": "stream",
     "text": [
      "50423.45039131537\n"
     ]
    }
   ],
   "source": [
    "# Enthalpy (J per kg dry air) as a function of temperature, pressure,\n",
    "#    and relative humidity at STP\n",
    "h = HAPropsSI('H','T',298.15,'P',101325,'R',0.5); \n",
    "print(h)"
   ]
  },
  {
   "cell_type": "code",
   "execution_count": 14,
   "id": "indonesian-holiday",
   "metadata": {},
   "outputs": [
    {
     "name": "stdout",
     "output_type": "stream",
     "text": [
      "290.962092469092\n"
     ]
    }
   ],
   "source": [
    "# Temperature of saturated air at the previous enthalpy\n",
    "T = HAPropsSI('T','P',101325,'H',h,'R',1.0);\n",
    "print(T)"
   ]
  },
  {
   "cell_type": "code",
   "execution_count": 15,
   "id": "aerial-fundamentals",
   "metadata": {},
   "outputs": [
    {
     "name": "stdout",
     "output_type": "stream",
     "text": [
      "290.962092469092\n"
     ]
    }
   ],
   "source": [
    "# Temperature of saturated air - order of inputs doesn't matter  \n",
    "T = HAPropsSI('T','H',h,'R',1.0,'P',101325); print(T)"
   ]
  },
  {
   "cell_type": "code",
   "execution_count": null,
   "id": "twelve-encoding",
   "metadata": {},
   "outputs": [],
   "source": []
  }
 ],
 "metadata": {
  "kernelspec": {
   "display_name": "Python 3",
   "language": "python",
   "name": "python3"
  },
  "language_info": {
   "codemirror_mode": {
    "name": "ipython",
    "version": 3
   },
   "file_extension": ".py",
   "mimetype": "text/x-python",
   "name": "python",
   "nbconvert_exporter": "python",
   "pygments_lexer": "ipython3",
   "version": "3.8.8"
  }
 },
 "nbformat": 4,
 "nbformat_minor": 5
}
