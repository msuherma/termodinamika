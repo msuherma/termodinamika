{
 "cells": [
  {
   "cell_type": "code",
   "execution_count": 2,
   "metadata": {
    "colab": {
     "base_uri": "https://localhost:8080/"
    },
    "executionInfo": {
     "elapsed": 4967,
     "status": "ok",
     "timestamp": 1614194849945,
     "user": {
      "displayName": "Mukhamad Suhermanto, S.Pd, M.Eng",
      "photoUrl": "",
      "userId": "00966700570926337399"
     },
     "user_tz": 300
    },
    "id": "IlN74imJgkOh",
    "outputId": "cc556bbd-1037-4914-c0b1-ef712fb766c0"
   },
   "outputs": [
    {
     "name": "stdout",
     "output_type": "stream",
     "text": [
      "Collecting pyromat\n",
      "\u001b[?25l  Downloading https://files.pythonhosted.org/packages/a0/3d/a50cb9ba0291a22f6c796d19e8d473773e988d76a834e29aa5ebf404bd21/PYroMat-2.0.12-py2.py3-none-any.whl (747kB)\n",
      "\u001b[K     |████████████████████████████████| 757kB 5.6MB/s \n",
      "\u001b[?25hRequirement already satisfied: numpy>=1.7 in /usr/local/lib/python3.7/dist-packages (from pyromat) (1.19.5)\n",
      "Installing collected packages: pyromat\n",
      "Successfully installed pyromat-2.0.12\n"
     ]
    }
   ],
   "source": [
    "!pip install pyromat"
   ]
  },
  {
   "cell_type": "code",
   "execution_count": 4,
   "metadata": {
    "executionInfo": {
     "elapsed": 544,
     "status": "ok",
     "timestamp": 1614194886438,
     "user": {
      "displayName": "Mukhamad Suhermanto, S.Pd, M.Eng",
      "photoUrl": "",
      "userId": "00966700570926337399"
     },
     "user_tz": 300
    },
    "id": "b_17nrPbffPK"
   },
   "outputs": [],
   "source": [
    "import pyromat as pm\r\n",
    "\r\n",
    "mp_water = pm.get('mp.H2O')"
   ]
  },
  {
   "cell_type": "code",
   "execution_count": 9,
   "metadata": {
    "colab": {
     "base_uri": "https://localhost:8080/"
    },
    "executionInfo": {
     "elapsed": 599,
     "status": "ok",
     "timestamp": 1614195083761,
     "user": {
      "displayName": "Mukhamad Suhermanto, S.Pd, M.Eng",
      "photoUrl": "",
      "userId": "00966700570926337399"
     },
     "user_tz": 300
    },
    "id": "ny7RYQMjgU2Q",
    "outputId": "e620f802-d7dc-41c1-ff3e-e7cdef5fff4c"
   },
   "outputs": [
    {
     "name": "stdout",
     "output_type": "stream",
     "text": [
      "Work/Kerja yang dibutuhkan oleh pompa = 2.2 kJ/kg\n"
     ]
    }
   ],
   "source": [
    "# { PUMP }\r\n",
    "\r\n",
    "#sat liq, thus x = 0\r\n",
    "p1 = 10\r\n",
    "p2 = 2000\r\n",
    "v = 1/mp_water.ds(p=p1)[0]\r\n",
    "\r\n",
    "w_p = v* (p2-p1)\r\n",
    "print(f'Work/Kerja yang dibutuhkan oleh pompa = {round(float(w_p),1)} kJ/kg')"
   ]
  },
  {
   "cell_type": "code",
   "execution_count": null,
   "metadata": {
    "id": "SJZ59b1jhLTu"
   },
   "outputs": [],
   "source": []
  }
 ],
 "metadata": {
  "colab": {
   "authorship_tag": "ABX9TyNszogpP8LBgrdIrFXQFmau",
   "name": "ideal-rankine-cycle.ipynb",
   "provenance": []
  },
  "kernelspec": {
   "display_name": "Python 3",
   "language": "python",
   "name": "python3"
  },
  "language_info": {
   "codemirror_mode": {
    "name": "ipython",
    "version": 3
   },
   "file_extension": ".py",
   "mimetype": "text/x-python",
   "name": "python",
   "nbconvert_exporter": "python",
   "pygments_lexer": "ipython3",
   "version": "3.9.1"
  }
 },
 "nbformat": 4,
 "nbformat_minor": 4
}
